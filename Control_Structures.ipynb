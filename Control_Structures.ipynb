{
  "nbformat": 4,
  "nbformat_minor": 0,
  "metadata": {
    "colab": {
      "provenance": [],
      "authorship_tag": "ABX9TyM33SYK0Du28O1He9oVLBzS",
      "include_colab_link": true
    },
    "kernelspec": {
      "name": "python3",
      "display_name": "Python 3"
    },
    "language_info": {
      "name": "python"
    }
  },
  "cells": [
    {
      "cell_type": "markdown",
      "metadata": {
        "id": "view-in-github",
        "colab_type": "text"
      },
      "source": [
        "<a href=\"https://colab.research.google.com/github/ibraheem-02/Python_Programs/blob/main/Control_Structures.ipynb\" target=\"_parent\"><img src=\"https://colab.research.google.com/assets/colab-badge.svg\" alt=\"Open In Colab\"/></a>"
      ]
    },
    {
      "cell_type": "markdown",
      "source": [
        "Single Alternet"
      ],
      "metadata": {
        "id": "HTybGcHlnUIs"
      }
    },
    {
      "cell_type": "code",
      "execution_count": 2,
      "metadata": {
        "colab": {
          "base_uri": "https://localhost:8080/"
        },
        "id": "UehV2nRdlyxX",
        "outputId": "93aa7cc5-18e4-49a1-c96a-59c4b4cae3e2"
      },
      "outputs": [
        {
          "name": "stdout",
          "output_type": "stream",
          "text": [
            "Enter a no: -5\n"
          ]
        }
      ],
      "source": [
        "# single alter net\n",
        "n1 = int(input(\"Enter a no: \"))\n",
        "if n1 >= 0:\n",
        "    print(\"Entered no is positive\")"
      ]
    },
    {
      "cell_type": "markdown",
      "source": [
        "Double Alternet"
      ],
      "metadata": {
        "id": "Gb-rQpEEoMU1"
      }
    },
    {
      "cell_type": "code",
      "source": [
        "#Double alternet\n",
        "n1 = int(input(\"Enter a no: \"))\n",
        "if n1 >= 0:\n",
        "    print(\"Entered no is positive\")\n",
        "else:\n",
        "    print(\"Entered no is negative\")"
      ],
      "metadata": {
        "colab": {
          "base_uri": "https://localhost:8080/"
        },
        "id": "FNmjZKqloQpU",
        "outputId": "0adbb1e8-3874-4cab-9640-0fd3979975ff"
      },
      "execution_count": 3,
      "outputs": [
        {
          "output_type": "stream",
          "name": "stdout",
          "text": [
            "Enter a no: -5\n",
            "Entered no is negative\n"
          ]
        }
      ]
    },
    {
      "cell_type": "markdown",
      "source": [
        "Multiple Alternet"
      ],
      "metadata": {
        "id": "1ue2hDK1obAo"
      }
    },
    {
      "cell_type": "code",
      "source": [
        "print(\"Character should be (A,a,B,b,C,c)\")\n",
        "char = input(\"Enter Single Chracter: \")\n",
        "if char == \"A\" or char == \"a\":\n",
        "    print(\"Apple\")\n",
        "elif char == \"B\" or char == \"b\":\n",
        "    print(\"Banana\")\n",
        "elif char == \"C\" or char == \"c\":\n",
        "    print(\"Cherry\")\n",
        "else:\n",
        "        print(\"Invalid Character\")"
      ],
      "metadata": {
        "colab": {
          "base_uri": "https://localhost:8080/"
        },
        "id": "qlyPy7_HofPc",
        "outputId": "a33c1568-2307-48c7-8e39-11c231aec8ca"
      },
      "execution_count": 5,
      "outputs": [
        {
          "output_type": "stream",
          "name": "stdout",
          "text": [
            "Character should be (A,a,B,b,C,c)\n",
            "Enter Single Chracter: a\n",
            "Apple\n"
          ]
        }
      ]
    }
  ]
}