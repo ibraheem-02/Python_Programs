{
  "nbformat": 4,
  "nbformat_minor": 0,
  "metadata": {
    "colab": {
      "provenance": [],
      "authorship_tag": "ABX9TyNNOBroLqmt6+bTMFFxBVgb",
      "include_colab_link": true
    },
    "kernelspec": {
      "name": "python3",
      "display_name": "Python 3"
    },
    "language_info": {
      "name": "python"
    }
  },
  "cells": [
    {
      "cell_type": "markdown",
      "metadata": {
        "id": "view-in-github",
        "colab_type": "text"
      },
      "source": [
        "<a href=\"https://colab.research.google.com/github/ibraheem-02/Python_Programs/blob/main/Control_Structures.ipynb\" target=\"_parent\"><img src=\"https://colab.research.google.com/assets/colab-badge.svg\" alt=\"Open In Colab\"/></a>"
      ]
    },
    {
      "cell_type": "markdown",
      "source": [
        "Single Alternet"
      ],
      "metadata": {
        "id": "HTybGcHlnUIs"
      }
    },
    {
      "cell_type": "code",
      "execution_count": null,
      "metadata": {
        "colab": {
          "base_uri": "https://localhost:8080/"
        },
        "id": "UehV2nRdlyxX",
        "outputId": "93aa7cc5-18e4-49a1-c96a-59c4b4cae3e2"
      },
      "outputs": [
        {
          "name": "stdout",
          "output_type": "stream",
          "text": [
            "Enter a no: -5\n"
          ]
        }
      ],
      "source": [
        "# single alter net\n",
        "n1 = int(input(\"Enter a no: \"))\n",
        "if n1 >= 0:\n",
        "    print(\"Entered no is positive\")"
      ]
    },
    {
      "cell_type": "markdown",
      "source": [
        "Double Alternet"
      ],
      "metadata": {
        "id": "Gb-rQpEEoMU1"
      }
    },
    {
      "cell_type": "code",
      "source": [
        "#Double alternet\n",
        "n1 = int(input(\"Enter a no: \"))\n",
        "if n1 >= 0:\n",
        "    print(\"Entered no is positive\")\n",
        "else:\n",
        "    print(\"Entered no is negative\")"
      ],
      "metadata": {
        "colab": {
          "base_uri": "https://localhost:8080/"
        },
        "id": "FNmjZKqloQpU",
        "outputId": "0adbb1e8-3874-4cab-9640-0fd3979975ff"
      },
      "execution_count": null,
      "outputs": [
        {
          "output_type": "stream",
          "name": "stdout",
          "text": [
            "Enter a no: -5\n",
            "Entered no is negative\n"
          ]
        }
      ]
    },
    {
      "cell_type": "markdown",
      "source": [
        "## **Even Odd Number **"
      ],
      "metadata": {
        "id": "8zoQI2rGJ1k_"
      }
    },
    {
      "cell_type": "code",
      "source": [
        "n1 = int(input(\"Enter a no: \"))\n",
        "if n1 % 2 == 0:\n",
        "    print(\"Entered no is even\")\n",
        "else:\n",
        "    print(\"Entered no is odd\")"
      ],
      "metadata": {
        "colab": {
          "base_uri": "https://localhost:8080/"
        },
        "id": "RKjGHw4TJ0cn",
        "outputId": "e2e06ccc-8b30-4552-8848-b26d3feca9b1"
      },
      "execution_count": 2,
      "outputs": [
        {
          "output_type": "stream",
          "name": "stdout",
          "text": [
            "Enter a no: 9\n",
            "Entered no is odd\n"
          ]
        }
      ]
    },
    {
      "cell_type": "markdown",
      "source": [
        "Multiple Alternet"
      ],
      "metadata": {
        "id": "1ue2hDK1obAo"
      }
    },
    {
      "cell_type": "code",
      "source": [
        "print(\"Character should be (A,a,B,b,C,c)\")\n",
        "char = input(\"Enter Single Chracter: \")\n",
        "if char == \"A\" or char == \"a\":\n",
        "    print(\"Apple\")\n",
        "elif char == \"B\" or char == \"b\":\n",
        "    print(\"Banana\")\n",
        "elif char == \"C\" or char == \"c\":\n",
        "    print(\"Cherry\")\n",
        "else:\n",
        "        print(\"Invalid Character\")"
      ],
      "metadata": {
        "colab": {
          "base_uri": "https://localhost:8080/"
        },
        "id": "qlyPy7_HofPc",
        "outputId": "a33c1568-2307-48c7-8e39-11c231aec8ca"
      },
      "execution_count": null,
      "outputs": [
        {
          "output_type": "stream",
          "name": "stdout",
          "text": [
            "Character should be (A,a,B,b,C,c)\n",
            "Enter Single Chracter: a\n",
            "Apple\n"
          ]
        }
      ]
    }
  ]
}