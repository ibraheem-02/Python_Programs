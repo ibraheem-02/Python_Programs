{
  "nbformat": 4,
  "nbformat_minor": 0,
  "metadata": {
    "colab": {
      "provenance": [],
      "authorship_tag": "ABX9TyPA9uAIaYWBM6FLKnTkCfd8",
      "include_colab_link": true
    },
    "kernelspec": {
      "name": "python3",
      "display_name": "Python 3"
    },
    "language_info": {
      "name": "python"
    }
  },
  "cells": [
    {
      "cell_type": "markdown",
      "metadata": {
        "id": "view-in-github",
        "colab_type": "text"
      },
      "source": [
        "<a href=\"https://colab.research.google.com/github/ibraheem-02/Python_Programs/blob/main/Repitive_Structure.ipynb\" target=\"_parent\"><img src=\"https://colab.research.google.com/assets/colab-badge.svg\" alt=\"Open In Colab\"/></a>"
      ]
    },
    {
      "cell_type": "markdown",
      "source": [
        "print the diagonal of star using while loop"
      ],
      "metadata": {
        "id": "wV91PkpSUPHq"
      }
    },
    {
      "cell_type": "code",
      "source": [
        "count = 1\n",
        "while (count <= 5):\n",
        "    print(\"*****\")\n",
        "    count += 1"
      ],
      "metadata": {
        "colab": {
          "base_uri": "https://localhost:8080/"
        },
        "id": "E5iBO5smaEIw",
        "outputId": "54a56bd7-1b1d-4563-a9f4-ef0c53e4c241"
      },
      "execution_count": 11,
      "outputs": [
        {
          "output_type": "stream",
          "name": "stdout",
          "text": [
            "*****\n",
            "*****\n",
            "*****\n",
            "*****\n",
            "*****\n"
          ]
        }
      ]
    },
    {
      "cell_type": "markdown",
      "source": [
        "take four number from user and add them using while loop number of repitation is known"
      ],
      "metadata": {
        "id": "IyaP_p7SWrrv"
      }
    },
    {
      "cell_type": "code",
      "source": [
        "sum = 0\n",
        "n = 1\n",
        "while (n <= 4):\n",
        "  x = int(input(\"enter the number:  \"))\n",
        "  sum = sum + x\n",
        "  n += 1\n",
        "print(\"Sum = \",sum)"
      ],
      "metadata": {
        "colab": {
          "base_uri": "https://localhost:8080/"
        },
        "id": "BlCT79iNW7a3",
        "outputId": "3c58bccf-ff44-4c11-a793-3dc3c0dcbe89"
      },
      "execution_count": 6,
      "outputs": [
        {
          "output_type": "stream",
          "name": "stdout",
          "text": [
            "enter the number:  5\n",
            "enter the number:  4\n",
            "enter the number:  7\n",
            "enter the number:  3\n",
            "Sum =  19\n"
          ]
        }
      ]
    },
    {
      "cell_type": "markdown",
      "source": [
        "take numbers from user and add them using while loop number of repitation is not known when user input a negative number exit the loop"
      ],
      "metadata": {
        "id": "XDuSU8pMXwWW"
      }
    },
    {
      "cell_type": "code",
      "source": [
        "sum = 0\n",
        "x = int (input(\"enter the number:  \"))\n",
        "while (x >= 0):\n",
        "  sum = sum + x\n",
        "  x = int (input(\"enter the number:  \"))\n",
        "print(\"Sum = \",sum)\n",
        "# sum = 0\n",
        "# x = 1\n",
        "# while (x >= 0):\n",
        "#   x = int(input(\"enter the number:  \"))\n",
        "#   if (x >= 0):\n",
        "#     sum = sum + x\n",
        "# print(\"Sum = \",sum)"
      ],
      "metadata": {
        "colab": {
          "base_uri": "https://localhost:8080/"
        },
        "id": "oClQ7a9HYGuy",
        "outputId": "e2912cfe-ffdf-4fe2-a7d2-7fdfe66513b8"
      },
      "execution_count": 10,
      "outputs": [
        {
          "output_type": "stream",
          "name": "stdout",
          "text": [
            "enter the number:  4\n",
            "enter the number:  6\n",
            "enter the number:  5\n",
            "enter the number:  -2\n",
            "Sum =  15\n"
          ]
        }
      ]
    },
    {
      "cell_type": "code",
      "execution_count": 2,
      "metadata": {
        "colab": {
          "base_uri": "https://localhost:8080/"
        },
        "id": "BDypm2N3Qf0_",
        "outputId": "a78be081-c467-4943-ea9f-83ce40736f1e"
      },
      "outputs": [
        {
          "output_type": "stream",
          "name": "stdout",
          "text": [
            "*****\n",
            "*****\n",
            "*****\n",
            "*****\n",
            "*****\n"
          ]
        }
      ],
      "source": [
        "count = 1\n",
        "while (count <= 5):\n",
        "    print(\"*****\")\n",
        "    count += 1\n"
      ]
    },
    {
      "cell_type": "markdown",
      "source": [
        "print the diagonal of stars but take number of star lines from user using while loop"
      ],
      "metadata": {
        "id": "1KfM78mVVkK2"
      }
    },
    {
      "cell_type": "code",
      "source": [
        "n = int(input(\"enter the number of lines:  \"))\n",
        "count = 1\n",
        "while (count <= n):\n",
        "  print(\"*****\")\n",
        "  count += 1\n",
        "print(\"out of loop\")\n",
        "\n"
      ],
      "metadata": {
        "colab": {
          "base_uri": "https://localhost:8080/"
        },
        "id": "g63UDLGTV0Jd",
        "outputId": "92c91c68-a668-4e7c-bbb9-431272cb5db7"
      },
      "execution_count": 5,
      "outputs": [
        {
          "output_type": "stream",
          "name": "stdout",
          "text": [
            "enter the number of lines:  4\n",
            "*****\n",
            "*****\n",
            "*****\n",
            "*****\n",
            "out of loop\n"
          ]
        }
      ]
    }
  ]
}