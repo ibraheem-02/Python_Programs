{
  "nbformat": 4,
  "nbformat_minor": 0,
  "metadata": {
    "colab": {
      "provenance": [],
      "authorship_tag": "ABX9TyNxY8/lleQVL9gjSe0ymf9j",
      "include_colab_link": true
    },
    "kernelspec": {
      "name": "python3",
      "display_name": "Python 3"
    },
    "language_info": {
      "name": "python"
    }
  },
  "cells": [
    {
      "cell_type": "markdown",
      "metadata": {
        "id": "view-in-github",
        "colab_type": "text"
      },
      "source": [
        "<a href=\"https://colab.research.google.com/github/ibraheem-02/Python_Programs/blob/main/List.ipynb\" target=\"_parent\"><img src=\"https://colab.research.google.com/assets/colab-badge.svg\" alt=\"Open In Colab\"/></a>"
      ]
    },
    {
      "cell_type": "markdown",
      "source": [
        "creating a list"
      ],
      "metadata": {
        "id": "dpDwJoqDsBZa"
      }
    },
    {
      "cell_type": "code",
      "source": [
        "student = [ \"M Ibrahim\" , 94 , 3.5]\n",
        "print(student)\n",
        "print(type(student))\n",
        "\n",
        "marks = [94.3 ,27.01,11.5, 25.76, 97.8]\n",
        "print(\"list of marks is: \",marks)\n",
        "print(\"lenth of list is: \",len(marks))\n",
        "# print marks throug index\n",
        "print(marks[0])\n",
        "print(marks[4])"
      ],
      "metadata": {
        "colab": {
          "base_uri": "https://localhost:8080/"
        },
        "id": "wmkugza8sFUo",
        "outputId": "ce916c12-fa53-4ac2-c7d9-8d7dc2f1d965"
      },
      "execution_count": null,
      "outputs": [
        {
          "output_type": "stream",
          "name": "stdout",
          "text": [
            "['M Ibrahim', 94, 3.5]\n",
            "<class 'list'>\n",
            "list of marks is:  [94.3, 27.01, 11.5, 25.76, 97.8]\n",
            "lenth of list is:  5\n",
            "94.3\n",
            "97.8\n"
          ]
        }
      ]
    },
    {
      "cell_type": "markdown",
      "source": [
        "pre-define operations or methods of list"
      ],
      "metadata": {
        "id": "fiA71fu5rsPj"
      }
    },
    {
      "cell_type": "code",
      "execution_count": null,
      "metadata": {
        "colab": {
          "base_uri": "https://localhost:8080/"
        },
        "id": "uI52Urorrlie",
        "outputId": "ce7a764b-c953-4efb-b5f3-2e5c59fa1d82"
      },
      "outputs": [
        {
          "output_type": "stream",
          "name": "stdout",
          "text": [
            "list before operations [3, 2, 6, 1]\n",
            "[3, 2, 6, 1, 15]\n",
            "[1, 3, 2, 6, 1, 15]\n",
            "Sort list in Acending order:  [1, 1, 2, 3, 6, 15]\n",
            "List sorted in decending order:  [15, 6, 3, 2, 1, 1]\n",
            "Reverse of List items:  [1, 1, 2, 3, 6, 15]\n",
            "Removed 1st element of list: [1, 2, 3, 6, 15]\n",
            "pop element at index 2: [1, 2, 6, 15]\n",
            "Sort list in Acending order:  ['Ali', 'Ibraheem', 'Rehman']\n",
            "List sorted in decending order:  ['Rehman', 'Ibraheem', 'Ali']\n"
          ]
        }
      ],
      "source": [
        "list = [3,2,6,1]\n",
        "print(\"list before operations\",list)\n",
        "\n",
        "#add elemnet to list\n",
        "list.append(15)\n",
        "print(list)\n",
        "\n",
        "# inserting value on particular index\n",
        "list.insert(0,1)\n",
        "print(list)\n",
        "\n",
        "# sort the list\n",
        "list.sort()\n",
        "print(\"Sort list in Acending order: \",list)\n",
        "# sort in decending order\n",
        "list.sort(reverse= True)\n",
        "print(\"List sorted in decending order: \",list)\n",
        "\n",
        "#Reverse the list items\n",
        "list.reverse()\n",
        "print(\"Reverse of List items: \",list)\n",
        "\n",
        "# remove first accurence of element\n",
        "list.remove(1)\n",
        "print(\"Removed 1st element of list:\",list)\n",
        "\n",
        "# pop remove element at index\n",
        "list.pop(2)\n",
        "print(\"pop element at index 2:\",list)\n",
        "\n",
        "# sorting in chracters/string\n",
        "list1= [\"Ibraheem\",\"Ali\",\"Rehman\"]\n",
        "# sort the list\n",
        "list1.sort()\n",
        "print(\"Sort list in Acending order: \",list1)\n",
        "\n",
        "# sort in decending order\n",
        "list1.sort(reverse= True)\n",
        "print(\"List sorted in decending order: \",list1)\n",
        "\n"
      ]
    },
    {
      "cell_type": "markdown",
      "source": [
        "check the list is palindrome or not hint[using list slicing]"
      ],
      "metadata": {
        "id": "jc7Lio7b5azj"
      }
    },
    {
      "cell_type": "code",
      "source": [
        "List = [1, 2, 3, 2, 1 ]\n",
        "List =  List [ -5:] #negative slicing\n",
        "if List == List:\n",
        "    print(\"List is Palindrome\")\n",
        "else:\n",
        "    print(\"List is not Palindrome\")\n"
      ],
      "metadata": {
        "colab": {
          "base_uri": "https://localhost:8080/"
        },
        "id": "kuXl7nux5aUi",
        "outputId": "aa816e03-6f2f-485a-8e0d-65791bd47fa3"
      },
      "execution_count": null,
      "outputs": [
        {
          "output_type": "stream",
          "name": "stdout",
          "text": [
            "List is Palindrome\n"
          ]
        }
      ]
    },
    {
      "cell_type": "markdown",
      "source": [
        "check the list is palindrome or not hint[using copy method]"
      ],
      "metadata": {
        "id": "bnFYHnHIFM6A"
      }
    },
    {
      "cell_type": "code",
      "source": [
        "List = [1, 2, 3, 2, 1]\n",
        "List1 = List.copy()\n",
        "List1.reverse()\n",
        "if List == List1:\n",
        "    print(\"List is Palindrome\")\n",
        "else:\n",
        "    print(\"List is not Palindrome\")"
      ],
      "metadata": {
        "colab": {
          "base_uri": "https://localhost:8080/"
        },
        "id": "bqOtU9zRFT5G",
        "outputId": "4ff4e64c-0f96-4cb7-9e91-a8e12f37b44c"
      },
      "execution_count": null,
      "outputs": [
        {
          "output_type": "stream",
          "name": "stdout",
          "text": [
            "List is Palindrome\n"
          ]
        }
      ]
    }
  ]
}