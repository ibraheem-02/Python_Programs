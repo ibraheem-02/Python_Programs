{
  "nbformat": 4,
  "nbformat_minor": 0,
  "metadata": {
    "colab": {
      "provenance": [],
      "authorship_tag": "ABX9TyNOoTLfLNt6NFLk+YUAL2TQ",
      "include_colab_link": true
    },
    "kernelspec": {
      "name": "python3",
      "display_name": "Python 3"
    },
    "language_info": {
      "name": "python"
    }
  },
  "cells": [
    {
      "cell_type": "markdown",
      "metadata": {
        "id": "view-in-github",
        "colab_type": "text"
      },
      "source": [
        "<a href=\"https://colab.research.google.com/github/ibraheem-02/Python_Programs/blob/main/Repititve_Structure.ipynb\" target=\"_parent\"><img src=\"https://colab.research.google.com/assets/colab-badge.svg\" alt=\"Open In Colab\"/></a>"
      ]
    },
    {
      "cell_type": "markdown",
      "source": [
        "print odd numbers using while from 1-100"
      ],
      "metadata": {
        "id": "oMwTvMkRQoQ4"
      }
    },
    {
      "cell_type": "code",
      "source": [
        "c= 1\n",
        "while (c <= 100):\n",
        "  if ((c % 2 )== 1):\n",
        "    print(c)\n",
        "  c += 1\n",
        ""
      ],
      "metadata": {
        "colab": {
          "base_uri": "https://localhost:8080/"
        },
        "id": "siCNAUweQvXW",
        "outputId": "e4dd2bf1-4690-433b-c9cf-68c80524bed9"
      },
      "execution_count": 3,
      "outputs": [
        {
          "output_type": "stream",
          "name": "stdout",
          "text": [
            "1\n",
            "3\n",
            "5\n",
            "7\n",
            "9\n",
            "11\n",
            "13\n",
            "15\n",
            "17\n",
            "19\n",
            "21\n",
            "23\n",
            "25\n",
            "27\n",
            "29\n",
            "31\n",
            "33\n",
            "35\n",
            "37\n",
            "39\n",
            "41\n",
            "43\n",
            "45\n",
            "47\n",
            "49\n",
            "51\n",
            "53\n",
            "55\n",
            "57\n",
            "59\n",
            "61\n",
            "63\n",
            "65\n",
            "67\n",
            "69\n",
            "71\n",
            "73\n",
            "75\n",
            "77\n",
            "79\n",
            "81\n",
            "83\n",
            "85\n",
            "87\n",
            "89\n",
            "91\n",
            "93\n",
            "95\n",
            "97\n",
            "99\n"
          ]
        }
      ]
    },
    {
      "cell_type": "code",
      "source": [
        "c= 1\n",
        "while (c <= 100):\n",
        "  if ((c % 2 )== 1):\n",
        "    c = c + 1\n",
        "    continue\n",
        "  print(c)\n",
        "  c += 1\n",
        ""
      ],
      "metadata": {
        "colab": {
          "base_uri": "https://localhost:8080/"
        },
        "id": "ICbo9JtZR_rt",
        "outputId": "9b0fb460-e704-47ba-d31f-6c35b16c48a9"
      },
      "execution_count": 9,
      "outputs": [
        {
          "output_type": "stream",
          "name": "stdout",
          "text": [
            "2\n",
            "4\n",
            "6\n",
            "8\n",
            "10\n",
            "12\n",
            "14\n",
            "16\n",
            "18\n",
            "20\n",
            "22\n",
            "24\n",
            "26\n",
            "28\n",
            "30\n",
            "32\n",
            "34\n",
            "36\n",
            "38\n",
            "40\n",
            "42\n",
            "44\n",
            "46\n",
            "48\n",
            "50\n",
            "52\n",
            "54\n",
            "56\n",
            "58\n",
            "60\n",
            "62\n",
            "64\n",
            "66\n",
            "68\n",
            "70\n",
            "72\n",
            "74\n",
            "76\n",
            "78\n",
            "80\n",
            "82\n",
            "84\n",
            "86\n",
            "88\n",
            "90\n",
            "92\n",
            "94\n",
            "96\n",
            "98\n",
            "100\n"
          ]
        }
      ]
    },
    {
      "cell_type": "code",
      "source": [
        "c = 1\n",
        "while (c <= 100):\n",
        "  print(c)\n",
        "  c += 2 # c = c +2"
      ],
      "metadata": {
        "colab": {
          "base_uri": "https://localhost:8080/"
        },
        "id": "ie5p2qNKTB38",
        "outputId": "56eb5d32-b13a-44f6-af7e-69b83b3fc0f9"
      },
      "execution_count": 11,
      "outputs": [
        {
          "output_type": "stream",
          "name": "stdout",
          "text": [
            "1\n",
            "3\n",
            "5\n",
            "7\n",
            "9\n",
            "11\n",
            "13\n",
            "15\n",
            "17\n",
            "19\n",
            "21\n",
            "23\n",
            "25\n",
            "27\n",
            "29\n",
            "31\n",
            "33\n",
            "35\n",
            "37\n",
            "39\n",
            "41\n",
            "43\n",
            "45\n",
            "47\n",
            "49\n",
            "51\n",
            "53\n",
            "55\n",
            "57\n",
            "59\n",
            "61\n",
            "63\n",
            "65\n",
            "67\n",
            "69\n",
            "71\n",
            "73\n",
            "75\n",
            "77\n",
            "79\n",
            "81\n",
            "83\n",
            "85\n",
            "87\n",
            "89\n",
            "91\n",
            "93\n",
            "95\n",
            "97\n",
            "99\n"
          ]
        }
      ]
    },
    {
      "cell_type": "markdown",
      "source": [
        "Using else keyword with while loop loop will be terminated when user input a negative number."
      ],
      "metadata": {
        "id": "yyd-Cx-pswGx"
      }
    },
    {
      "cell_type": "code",
      "source": [
        "sum = 0\n",
        "n = int(input(\"enter the number:  \"))\n",
        "while (n > 0):\n",
        "  sum = sum + n\n",
        "  n = int(input(\"enter the number:  \"))\n",
        "else:\n",
        "    print(\"Loop ended here\")\n",
        "print(\"Sum = \",sum)"
      ],
      "metadata": {
        "colab": {
          "base_uri": "https://localhost:8080/"
        },
        "id": "GTb1cFNxs4f9",
        "outputId": "982d3198-85d2-41b4-fd44-cf4fa42a17d2"
      },
      "execution_count": null,
      "outputs": [
        {
          "output_type": "stream",
          "name": "stdout",
          "text": [
            "enter the number:  6\n",
            "enter the number:  5\n",
            "enter the number:  -1\n",
            "Loop ended here\n",
            "Sum =  11\n"
          ]
        }
      ]
    },
    {
      "cell_type": "markdown",
      "source": [
        "take numbers from user and add them using while loop number of repitation is not known when user input a Even no sum up odd no ignored and negative number exit the loop Hint use break and continue keyword\n"
      ],
      "metadata": {
        "id": "U9a-At2wqgBK"
      }
    },
    {
      "cell_type": "code",
      "source": [
        "sum = 0\n",
        "n = 1\n",
        "while (n > 0):\n",
        "  n = int(input(\"enter the number:  \"))\n",
        "  if (n < 0):\n",
        "    break\n",
        "  elif (n % 2 != 0):\n",
        "    continue\n",
        "  else:\n",
        "    sum = sum + n\n",
        "print(\"Sum = \",sum)"
      ],
      "metadata": {
        "colab": {
          "base_uri": "https://localhost:8080/"
        },
        "id": "8pznMpcbrEPW",
        "outputId": "7ec4a134-c0d7-4155-cff5-e28fee57e918"
      },
      "execution_count": null,
      "outputs": [
        {
          "output_type": "stream",
          "name": "stdout",
          "text": [
            "enter the number:  5\n",
            "enter the number:  4\n",
            "enter the number:  -1\n",
            "Sum =  4\n"
          ]
        }
      ]
    },
    {
      "cell_type": "markdown",
      "source": [
        "print the diagonal of star using while loop"
      ],
      "metadata": {
        "id": "wV91PkpSUPHq"
      }
    },
    {
      "cell_type": "code",
      "source": [
        "count = 1\n",
        "while (count <= 5):\n",
        "    print(\"*****\")\n",
        "    count += 1"
      ],
      "metadata": {
        "colab": {
          "base_uri": "https://localhost:8080/"
        },
        "id": "E5iBO5smaEIw",
        "outputId": "54a56bd7-1b1d-4563-a9f4-ef0c53e4c241"
      },
      "execution_count": null,
      "outputs": [
        {
          "output_type": "stream",
          "name": "stdout",
          "text": [
            "*****\n",
            "*****\n",
            "*****\n",
            "*****\n",
            "*****\n"
          ]
        }
      ]
    },
    {
      "cell_type": "markdown",
      "source": [
        "take four number from user and add them using while loop number of repitation is known"
      ],
      "metadata": {
        "id": "IyaP_p7SWrrv"
      }
    },
    {
      "cell_type": "code",
      "source": [
        "sum = 0\n",
        "n = 1\n",
        "while (n <= 4):\n",
        "  x = int(input(\"enter the number:  \"))\n",
        "  sum = sum + x\n",
        "  n += 1\n",
        "print(\"Sum = \",sum)"
      ],
      "metadata": {
        "colab": {
          "base_uri": "https://localhost:8080/"
        },
        "id": "BlCT79iNW7a3",
        "outputId": "3c58bccf-ff44-4c11-a793-3dc3c0dcbe89"
      },
      "execution_count": null,
      "outputs": [
        {
          "output_type": "stream",
          "name": "stdout",
          "text": [
            "enter the number:  5\n",
            "enter the number:  4\n",
            "enter the number:  7\n",
            "enter the number:  3\n",
            "Sum =  19\n"
          ]
        }
      ]
    },
    {
      "cell_type": "markdown",
      "source": [
        "take numbers from user and add them using while loop number of repitation is not known when user input a negative number exit the loop"
      ],
      "metadata": {
        "id": "XDuSU8pMXwWW"
      }
    },
    {
      "cell_type": "code",
      "source": [
        "sum = 0\n",
        "x = int (input(\"enter the number:  \"))\n",
        "while (x >= 0):\n",
        "  sum = sum + x\n",
        "  x = int (input(\"enter the number:  \"))\n",
        "print(\"Sum = \",sum)\n",
        "# sum = 0\n",
        "# x = 1\n",
        "# while (x >= 0):\n",
        "#   x = int(input(\"enter the number:  \"))\n",
        "#   if (x >= 0):\n",
        "#     sum = sum + x\n",
        "# print(\"Sum = \",sum)"
      ],
      "metadata": {
        "colab": {
          "base_uri": "https://localhost:8080/"
        },
        "id": "oClQ7a9HYGuy",
        "outputId": "e2912cfe-ffdf-4fe2-a7d2-7fdfe66513b8"
      },
      "execution_count": null,
      "outputs": [
        {
          "output_type": "stream",
          "name": "stdout",
          "text": [
            "enter the number:  4\n",
            "enter the number:  6\n",
            "enter the number:  5\n",
            "enter the number:  -2\n",
            "Sum =  15\n"
          ]
        }
      ]
    },
    {
      "cell_type": "code",
      "execution_count": null,
      "metadata": {
        "colab": {
          "base_uri": "https://localhost:8080/"
        },
        "id": "BDypm2N3Qf0_",
        "outputId": "a78be081-c467-4943-ea9f-83ce40736f1e"
      },
      "outputs": [
        {
          "output_type": "stream",
          "name": "stdout",
          "text": [
            "*****\n",
            "*****\n",
            "*****\n",
            "*****\n",
            "*****\n"
          ]
        }
      ],
      "source": [
        "count = 1\n",
        "while (count <= 5):\n",
        "    print(\"*****\")\n",
        "    count += 1\n"
      ]
    },
    {
      "cell_type": "markdown",
      "source": [
        "print the diagonal of stars but take number of star lines from user using while loop"
      ],
      "metadata": {
        "id": "1KfM78mVVkK2"
      }
    },
    {
      "cell_type": "code",
      "source": [
        "n = int(input(\"enter the number of lines:  \"))\n",
        "count = 1\n",
        "while (count <= n):\n",
        "  print(\"*****\")\n",
        "  count += 1\n",
        "print(\"out of loop\")\n",
        "\n"
      ],
      "metadata": {
        "colab": {
          "base_uri": "https://localhost:8080/"
        },
        "id": "g63UDLGTV0Jd",
        "outputId": "92c91c68-a668-4e7c-bbb9-431272cb5db7"
      },
      "execution_count": null,
      "outputs": [
        {
          "output_type": "stream",
          "name": "stdout",
          "text": [
            "enter the number of lines:  4\n",
            "*****\n",
            "*****\n",
            "*****\n",
            "*****\n",
            "out of loop\n"
          ]
        }
      ]
    },
    {
      "cell_type": "markdown",
      "source": [],
      "metadata": {
        "id": "ZiRpS8bGqSc5"
      }
    }
  ]
}