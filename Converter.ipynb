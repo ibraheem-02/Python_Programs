{
  "nbformat": 4,
  "nbformat_minor": 0,
  "metadata": {
    "colab": {
      "provenance": [],
      "authorship_tag": "ABX9TyNTOfUyYSDtYuSEaGsEMPpr",
      "include_colab_link": true
    },
    "kernelspec": {
      "name": "python3",
      "display_name": "Python 3"
    },
    "language_info": {
      "name": "python"
    }
  },
  "cells": [
    {
      "cell_type": "markdown",
      "metadata": {
        "id": "view-in-github",
        "colab_type": "text"
      },
      "source": [
        "<a href=\"https://colab.research.google.com/github/ibraheem-02/Python_Programs/blob/main/Converter.ipynb\" target=\"_parent\"><img src=\"https://colab.research.google.com/assets/colab-badge.svg\" alt=\"Open In Colab\"/></a>"
      ]
    },
    {
      "cell_type": "code",
      "execution_count": 1,
      "metadata": {
        "colab": {
          "base_uri": "https://localhost:8080/"
        },
        "id": "B6uCJkpEUpl2",
        "outputId": "8484a03b-1407-4d54-e995-ca132d351073"
      },
      "outputs": [
        {
          "output_type": "stream",
          "name": "stdout",
          "text": [
            "Enter USD amount : 100\n",
            "100.0 USD =  28500.0 PKR\n"
          ]
        }
      ],
      "source": [
        "def converter(pkr_val):\n",
        "    usd_val = pkr_val * 285\n",
        "    print(pkr_val,\"USD = \",usd_val,\"PKR\")\n",
        "\n",
        "converter(pkr_val = float(input(\"Enter USD amount : \")))"
      ]
    }
  ]
}