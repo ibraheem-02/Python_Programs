{
  "nbformat": 4,
  "nbformat_minor": 0,
  "metadata": {
    "colab": {
      "provenance": [],
      "authorship_tag": "ABX9TyOvS9t0CUVJZfr+Y9jhsBAV",
      "include_colab_link": true
    },
    "kernelspec": {
      "name": "python3",
      "display_name": "Python 3"
    },
    "language_info": {
      "name": "python"
    }
  },
  "cells": [
    {
      "cell_type": "markdown",
      "metadata": {
        "id": "view-in-github",
        "colab_type": "text"
      },
      "source": [
        "<a href=\"https://colab.research.google.com/github/ibraheem-02/Python_Programs/blob/main/Nested_WhileLoop.ipynb\" target=\"_parent\"><img src=\"https://colab.research.google.com/assets/colab-badge.svg\" alt=\"Open In Colab\"/></a>"
      ]
    },
    {
      "cell_type": "markdown",
      "source": [
        "program that print 5 lines 1 2 3 4  5 in one line and sum all these values now the outer loop add the sum 4 times"
      ],
      "metadata": {
        "id": "JqfwQ0E9cgBn"
      }
    },
    {
      "cell_type": "code",
      "source": [
        "sum = 0\n",
        "c2 = 1\n",
        "while (c2 <= 4):\n",
        "  c = 1\n",
        "  while( c <= 5):\n",
        "    sum = sum + c\n",
        "    c = c + 1\n",
        "c2 = c2 + 1\n",
        "print(\"Final sum is : \",sum)\n"
      ],
      "metadata": {
        "id": "RzTVSizYce5L"
      },
      "execution_count": null,
      "outputs": []
    },
    {
      "cell_type": "markdown",
      "source": [
        "program that take a number from user and print a table"
      ],
      "metadata": {
        "id": "dMCK241ocdKS"
      }
    },
    {
      "cell_type": "code",
      "execution_count": null,
      "metadata": {
        "id": "2_K-wvTmcV6a",
        "colab": {
          "base_uri": "https://localhost:8080/"
        },
        "outputId": "67f26bfd-2f5d-443a-e19d-1d68daeceba6"
      },
      "outputs": [
        {
          "output_type": "stream",
          "name": "stdout",
          "text": [
            " Enter a Number:   5\n",
            "5 * 1 =  5\n",
            "5 * 2 =  10\n",
            "5 * 3 =  15\n",
            "5 * 4 =  20\n",
            "5 * 5 =  25\n",
            "5 * 6 =  30\n",
            "5 * 7 =  35\n",
            "5 * 8 =  40\n",
            "5 * 9 =  45\n",
            "5 * 10 =  50\n"
          ]
        }
      ],
      "source": [
        "c = 1\n",
        "n = int(input(\" Enter a Number:   \"))\n",
        "while(c <= 10):\n",
        "  print( n, \"*\" ,c, \"= \", n*c)\n",
        "  c = c + 1"
      ]
    }
  ]
}