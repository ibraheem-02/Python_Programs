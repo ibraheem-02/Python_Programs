{
  "nbformat": 4,
  "nbformat_minor": 0,
  "metadata": {
    "colab": {
      "provenance": [],
      "authorship_tag": "ABX9TyMtDRdKI7FSXaZ1+PariWFs",
      "include_colab_link": true
    },
    "kernelspec": {
      "name": "python3",
      "display_name": "Python 3"
    },
    "language_info": {
      "name": "python"
    }
  },
  "cells": [
    {
      "cell_type": "markdown",
      "metadata": {
        "id": "view-in-github",
        "colab_type": "text"
      },
      "source": [
        "<a href=\"https://colab.research.google.com/github/ibraheem-02/Python_Programs/blob/main/Recursion.ipynb\" target=\"_parent\"><img src=\"https://colab.research.google.com/assets/colab-badge.svg\" alt=\"Open In Colab\"/></a>"
      ]
    },
    {
      "cell_type": "markdown",
      "source": [
        "# **Base Case/Condition/Situation**\n",
        "lets find the factorial of a number take number from user for example user enter a number 5.\n",
        "### `Algorithm`\n",
        "### fact(5) = 5*fact(5-1)\n",
        "        fact(4) = 4*fact(4-1)\n",
        "                    fact(3) = 3*fact(3-1)\n",
        "                              fact(2) = 2*fact(2-1)\n",
        "                                        fact(1) = 1*fact(1-1)\n",
        "                                                  fact(0) = 1"
      ],
      "metadata": {
        "id": "jj4i_SuqnTZQ"
      }
    },
    {
      "cell_type": "code",
      "execution_count": 1,
      "metadata": {
        "colab": {
          "base_uri": "https://localhost:8080/"
        },
        "id": "plPM3ngsnO57",
        "outputId": "98ad7ecf-a5b1-4cb4-dbe6-8c8e9d01f588"
      },
      "outputs": [
        {
          "output_type": "stream",
          "name": "stdout",
          "text": [
            "Enter a Number: 5\n",
            "Factorial of  5 is 120\n"
          ]
        }
      ],
      "source": [
        "def fact(n):\n",
        "    if n==0:\n",
        "        return 1\n",
        "    return n*fact(n-1)\n",
        "n = int(input(\"Enter a Number: \"))\n",
        "result = fact(n)\n",
        "print(\"Factorial of \",n,\"is\",result)"
      ]
    }
  ]
}