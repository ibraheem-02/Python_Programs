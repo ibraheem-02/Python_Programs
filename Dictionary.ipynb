{
  "nbformat": 4,
  "nbformat_minor": 0,
  "metadata": {
    "colab": {
      "provenance": [],
      "authorship_tag": "ABX9TyO/L8ISAGX8Av0wUmRYkZ08",
      "include_colab_link": true
    },
    "kernelspec": {
      "name": "python3",
      "display_name": "Python 3"
    },
    "language_info": {
      "name": "python"
    }
  },
  "cells": [
    {
      "cell_type": "markdown",
      "metadata": {
        "id": "view-in-github",
        "colab_type": "text"
      },
      "source": [
        "<a href=\"https://colab.research.google.com/github/ibraheem-02/Python_Programs/blob/main/Dictionary.ipynb\" target=\"_parent\"><img src=\"https://colab.research.google.com/assets/colab-badge.svg\" alt=\"Open In Colab\"/></a>"
      ]
    },
    {
      "cell_type": "markdown",
      "source": [
        "create Dictionary"
      ],
      "metadata": {
        "id": "Xdls2AJzkKOt"
      }
    },
    {
      "cell_type": "code",
      "execution_count": null,
      "metadata": {
        "colab": {
          "base_uri": "https://localhost:8080/"
        },
        "id": "g5p5E4tKkF2B",
        "outputId": "27a18e22-0c8f-4ea6-a2ae-84cf88b3df1b"
      },
      "outputs": [
        {
          "output_type": "stream",
          "name": "stdout",
          "text": [
            "dict_keys(['name', 'course', 'year', 'semester'])\n",
            "dict_values([\"Ma'am Farhat\", 'Python', '3rd', '2nd'])\n",
            "dict_items([('name', \"Ma'am Farhat\"), ('course', 'Python'), ('year', '3rd'), ('semester', '2nd')])\n",
            "{'name': \"Ma'am Farhat Naureen\", 'course': 'Python', 'year': '3rd', 'semester': '2nd'}\n",
            "{'name': \"Ma'am Farhat Naureen\", 'course': 'Python', 'year': '3rd', 'semester': '2nd', 'department': 'Computer Science'}\n"
          ]
        }
      ],
      "source": [
        "faculty = {\n",
        "\n",
        "           \"name\"    : \"Ma'am Farhat\",\n",
        "           \"course\"  : \"Python\",\n",
        "           \"year\"    : \"3rd\",\n",
        "           \"semester\": \"2nd\"\n",
        "\n",
        "}\n",
        "print (faculty.keys())\n",
        "print (faculty.values())\n",
        "print (faculty.items())\n",
        "\n",
        "# change in value\n",
        "faculty[\"name\"] = \"Ma'am Farhat Naureen\"\n",
        "print (faculty)\n",
        "\n",
        "# adding new key\n",
        "faculty[\"department\"] = \"Computer Science\"\n",
        "print (faculty)"
      ]
    }
  ]
}