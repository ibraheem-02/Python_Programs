{
  "nbformat": 4,
  "nbformat_minor": 0,
  "metadata": {
    "colab": {
      "provenance": [],
      "authorship_tag": "ABX9TyOGXgmANHDSecYfUelzxcLc",
      "include_colab_link": true
    },
    "kernelspec": {
      "name": "python3",
      "display_name": "Python 3"
    },
    "language_info": {
      "name": "python"
    }
  },
  "cells": [
    {
      "cell_type": "markdown",
      "metadata": {
        "id": "view-in-github",
        "colab_type": "text"
      },
      "source": [
        "<a href=\"https://colab.research.google.com/github/ibraheem-02/Python_Programs/blob/main/Range%26ForLoop.ipynb\" target=\"_parent\"><img src=\"https://colab.research.google.com/assets/colab-badge.svg\" alt=\"Open In Colab\"/></a>"
      ]
    },
    {
      "cell_type": "markdown",
      "source": [
        "For Loop"
      ],
      "metadata": {
        "id": "2xKlteOZd0dQ"
      }
    },
    {
      "cell_type": "markdown",
      "source": [
        "print table using range\n",
        "Range\n",
        "syntax range (start, end , step)"
      ],
      "metadata": {
        "id": "c_7tAiXGe7Uc"
      }
    },
    {
      "cell_type": "code",
      "source": [
        "n = int(input(\"Enter a number: \"))\n",
        "for el in range (1,11):\n",
        "  print (n, \"*\", el, \"=\", n*el)"
      ],
      "metadata": {
        "colab": {
          "base_uri": "https://localhost:8080/"
        },
        "id": "aI0gw_1ChB0W",
        "outputId": "b30027d6-b542-4f6c-cb01-4c0b4425075b"
      },
      "execution_count": 17,
      "outputs": [
        {
          "output_type": "stream",
          "name": "stdout",
          "text": [
            "Enter a number: 3\n",
            "3 * 1 = 3\n",
            "3 * 2 = 6\n",
            "3 * 3 = 9\n",
            "3 * 4 = 12\n",
            "3 * 5 = 15\n",
            "3 * 6 = 18\n",
            "3 * 7 = 21\n",
            "3 * 8 = 24\n",
            "3 * 9 = 27\n",
            "3 * 10 = 30\n"
          ]
        }
      ]
    },
    {
      "cell_type": "markdown",
      "source": [
        "print squar of first 7 numbers using range"
      ],
      "metadata": {
        "id": "jLPdWJeqhaod"
      }
    },
    {
      "cell_type": "code",
      "source": [
        "from os import execl\n",
        "for el in range (1,8):\n",
        "  # print (el*el)\n",
        "  print (execl"
      ],
      "metadata": {
        "colab": {
          "base_uri": "https://localhost:8080/"
        },
        "id": "ouY9Ag3ghiCL",
        "outputId": "e2bcd268-0923-4ba6-9596-da8b36133d3a"
      },
      "execution_count": 16,
      "outputs": [
        {
          "output_type": "stream",
          "name": "stdout",
          "text": [
            "1\n",
            "4\n",
            "9\n",
            "16\n",
            "25\n",
            "36\n",
            "49\n"
          ]
        }
      ]
    },
    {
      "cell_type": "code",
      "source": [
        "for el in range (1,10,2):\n",
        "  print (el*el,end = \" \")"
      ],
      "metadata": {
        "colab": {
          "base_uri": "https://localhost:8080/"
        },
        "id": "R3HIJuaKe6gZ",
        "outputId": "751f294d-3980-4a31-cb34-8b0f1919c1b3"
      },
      "execution_count": 25,
      "outputs": [
        {
          "output_type": "stream",
          "name": "stdout",
          "text": [
            "1 9 25 49 81 "
          ]
        }
      ]
    },
    {
      "cell_type": "code",
      "source": [
        "L = [1, 2, 3, 4, 5]\n",
        "\n",
        "for el in L:\n",
        "    # print (el)\n",
        "# display out put in single line\n",
        "     print (el, end = \" \") #space\n",
        "    # print (el, end = \"\") #no space\n",
        "    # print (el, end = \",\") #comma"
      ],
      "metadata": {
        "colab": {
          "base_uri": "https://localhost:8080/"
        },
        "id": "16zcZY6td46W",
        "outputId": "cfc2fee7-6549-4a32-e62b-03631d08a5fe"
      },
      "execution_count": 23,
      "outputs": [
        {
          "output_type": "stream",
          "name": "stdout",
          "text": [
            "1 2 3 4 5 "
          ]
        }
      ]
    },
    {
      "cell_type": "markdown",
      "source": [
        "Odd Number from list"
      ],
      "metadata": {
        "id": "TZu5dMj-eMq4"
      }
    },
    {
      "cell_type": "code",
      "source": [
        "L = [1, 2, 3, 4, 5, 6, 7, 8, 9, 10]\n",
        "\n",
        "for el in L:\n",
        "    if el % 2 != 0:\n",
        "        print (el)"
      ],
      "metadata": {
        "colab": {
          "base_uri": "https://localhost:8080/"
        },
        "id": "J_dd0YXKeX49",
        "outputId": "c63f6812-2733-40bb-b548-b2af2f1031d2"
      },
      "execution_count": 9,
      "outputs": [
        {
          "output_type": "stream",
          "name": "stdout",
          "text": [
            "1\n",
            "3\n",
            "5\n",
            "7\n",
            "9\n"
          ]
        }
      ]
    },
    {
      "cell_type": "code",
      "source": [
        "L = [1, 3, 5,  7, 9,]\n",
        "for el in L:\n",
        "    print (el)\n",
        "else:\n",
        "  print(\"Loop ended here\")"
      ],
      "metadata": {
        "colab": {
          "base_uri": "https://localhost:8080/"
        },
        "id": "04rXEXjcelYe",
        "outputId": "72a0ff7d-279c-41b5-df1b-c924665a8f02"
      },
      "execution_count": 15,
      "outputs": [
        {
          "output_type": "stream",
          "name": "stdout",
          "text": [
            "1\n",
            "3\n",
            "5\n",
            "7\n",
            "9\n",
            "Loop ended here\n"
          ]
        }
      ]
    }
  ]
}