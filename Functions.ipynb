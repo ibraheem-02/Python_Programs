{
  "nbformat": 4,
  "nbformat_minor": 0,
  "metadata": {
    "colab": {
      "provenance": [],
      "authorship_tag": "ABX9TyOa1iNWoUMA4Hi5wav7p88E",
      "include_colab_link": true
    },
    "kernelspec": {
      "name": "python3",
      "display_name": "Python 3"
    },
    "language_info": {
      "name": "python"
    }
  },
  "cells": [
    {
      "cell_type": "markdown",
      "metadata": {
        "id": "view-in-github",
        "colab_type": "text"
      },
      "source": [
        "<a href=\"https://colab.research.google.com/github/ibraheem-02/Python_Programs/blob/main/Functions.ipynb\" target=\"_parent\"><img src=\"https://colab.research.google.com/assets/colab-badge.svg\" alt=\"Open In Colab\"/></a>"
      ]
    },
    {
      "cell_type": "markdown",
      "source": [
        "creating functions\n",
        "syntax\n",
        "function define.\n",
        "  def Function_Name( p1,p2,p3,...):\n",
        "        Statements\n",
        "function call\n",
        "Function_Name(a1,a2,a3,...)\n",
        "a = arrguements(value)\n",
        "p = parameters (variables)\n",
        "\n",
        "create a function for average of three numbers"
      ],
      "metadata": {
        "id": "OITluL-t0xKX"
      }
    },
    {
      "cell_type": "code",
      "execution_count": 4,
      "metadata": {
        "colab": {
          "base_uri": "https://localhost:8080/"
        },
        "id": "1unMNWTY0tBC",
        "outputId": "ddb30088-4b81-4c5c-9a5c-dcd6f2fca966"
      },
      "outputs": [
        {
          "output_type": "stream",
          "name": "stdout",
          "text": [
            "20.0\n"
          ]
        }
      ],
      "source": [
        "def avg (n1,n2,n3):\n",
        "  sum = n1 + n2 + n3\n",
        "  average = sum /3\n",
        "  return average\n",
        "\n",
        "result = avg(10,20,30)\n",
        "print(result)"
      ]
    }
  ]
}