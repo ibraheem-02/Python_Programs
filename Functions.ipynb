{
  "nbformat": 4,
  "nbformat_minor": 0,
  "metadata": {
    "colab": {
      "provenance": [],
      "authorship_tag": "ABX9TyM3ZGmIpQ1CWn4zZKzK+g3L",
      "include_colab_link": true
    },
    "kernelspec": {
      "name": "python3",
      "display_name": "Python 3"
    },
    "language_info": {
      "name": "python"
    }
  },
  "cells": [
    {
      "cell_type": "markdown",
      "metadata": {
        "id": "view-in-github",
        "colab_type": "text"
      },
      "source": [
        "<a href=\"https://colab.research.google.com/github/ibraheem-02/Python_Programs/blob/main/Functions.ipynb\" target=\"_parent\"><img src=\"https://colab.research.google.com/assets/colab-badge.svg\" alt=\"Open In Colab\"/></a>"
      ]
    },
    {
      "cell_type": "markdown",
      "source": [
        "creating functions\n",
        "syntax\n",
        "function define.\n",
        "  def Function_Name( p1,p2,p3,...):\n",
        "        Statements\n",
        "function call\n",
        "Function_Name(a1,a2,a3,...)\n",
        "a = arrguements(value)\n",
        "p = parameters (variables)\n",
        "\n",
        "create a function for average of three numbers"
      ],
      "metadata": {
        "id": "OITluL-t0xKX"
      }
    },
    {
      "cell_type": "code",
      "execution_count": null,
      "metadata": {
        "colab": {
          "base_uri": "https://localhost:8080/"
        },
        "id": "1unMNWTY0tBC",
        "outputId": "ddb30088-4b81-4c5c-9a5c-dcd6f2fca966"
      },
      "outputs": [
        {
          "output_type": "stream",
          "name": "stdout",
          "text": [
            "20.0\n"
          ]
        }
      ],
      "source": [
        "def avg (n1,n2,n3):\n",
        "  sum = n1 + n2 + n3\n",
        "  average = sum /3\n",
        "  return average\n",
        "\n",
        "result = avg(10,20,30)\n",
        "print(result)"
      ]
    },
    {
      "cell_type": "markdown",
      "source": [
        "Default value concept"
      ],
      "metadata": {
        "id": "ouj5T3NuiCwC"
      }
    },
    {
      "cell_type": "code",
      "source": [
        "def Func(n1= 0, n2 = 0, n3 = 0):\n",
        "  print(n1,n2,n3)\n",
        "\n",
        "Func() #by default arguements prints 0 0 0\n",
        "Func(3,5,7) # print 3 = n1 , 5 = n2 ,7 = n3 (overide the default values)\n",
        "Func(1,3)   # override the current values with n1 = 1 , n2 = 3\n"
      ],
      "metadata": {
        "colab": {
          "base_uri": "https://localhost:8080/"
        },
        "id": "PyVSJmMXiQXV",
        "outputId": "d82c4895-ae63-44e0-9e80-57d7013c883f"
      },
      "execution_count": 2,
      "outputs": [
        {
          "output_type": "stream",
          "name": "stdout",
          "text": [
            "0 0 0\n",
            "3 5 7\n",
            "1 3 0\n"
          ]
        }
      ]
    },
    {
      "cell_type": "markdown",
      "source": [
        "Non- default values(parametrs) can be used with default values in a sequence first non-default value then default values"
      ],
      "metadata": {
        "id": "gc1FEoWskMWq"
      }
    },
    {
      "cell_type": "code",
      "source": [
        "def Func(n1, n2 = 0, n3 = 0):\n",
        "  print(n1,n2,n3)\n",
        "\n",
        "Func(3,5,7) # print 3 = n1 , 5 = n2 ,7 = n3 (overide the default values)\n",
        "Func(1,3)"
      ],
      "metadata": {
        "colab": {
          "base_uri": "https://localhost:8080/"
        },
        "id": "zDEKmefLkk9C",
        "outputId": "fef2594d-5ca9-492a-905b-a838e91a455f"
      },
      "execution_count": 3,
      "outputs": [
        {
          "output_type": "stream",
          "name": "stdout",
          "text": [
            "3 5 7\n",
            "1 3 0\n"
          ]
        }
      ]
    },
    {
      "cell_type": "markdown",
      "source": [
        "if number of parameter are not known so we use the * args in a function paramter"
      ],
      "metadata": {
        "id": "J8nyWqbllVQV"
      }
    },
    {
      "cell_type": "code",
      "source": [
        "def Func(*args):\n",
        "   print(args)\n",
        "   size = len(args)\n",
        "   print(\"Received\",size,\"elements\")\n",
        "\n",
        "Func(1,3,9,7)\n",
        "Func(1,3)\n"
      ],
      "metadata": {
        "colab": {
          "base_uri": "https://localhost:8080/"
        },
        "id": "74Dom28PliCN",
        "outputId": "45c09697-a7b1-4089-d415-481832eadf53"
      },
      "execution_count": 8,
      "outputs": [
        {
          "output_type": "stream",
          "name": "stdout",
          "text": [
            "(1, 3, 9, 7)\n",
            "Received 4 elements\n",
            "(1, 3)\n",
            "Received 2 elements\n"
          ]
        }
      ]
    },
    {
      "cell_type": "markdown",
      "source": [
        "pass statement is used when we have currently no need of a specific block of code but for futer use we write the code with pass statement"
      ],
      "metadata": {
        "id": "9LHenc3LnUMM"
      }
    },
    {
      "cell_type": "code",
      "source": [
        "for i in range(10):\n",
        "  pass"
      ],
      "metadata": {
        "id": "4KXbU770nwZA"
      },
      "execution_count": 9,
      "outputs": []
    }
  ]
}