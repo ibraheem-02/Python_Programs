{
  "nbformat": 4,
  "nbformat_minor": 0,
  "metadata": {
    "colab": {
      "provenance": [],
      "collapsed_sections": [
        "iWisKUfFWlux",
        "rSgwS0OlgIs8",
        "KdEy0d0-sXj1",
        "GabSEyoEhb1d"
      ],
      "authorship_tag": "ABX9TyMfQv5UKTRWjS38XB4swjqf",
      "include_colab_link": true
    },
    "kernelspec": {
      "name": "python3",
      "display_name": "Python 3"
    },
    "language_info": {
      "name": "python"
    }
  },
  "cells": [
    {
      "cell_type": "markdown",
      "metadata": {
        "id": "view-in-github",
        "colab_type": "text"
      },
      "source": [
        "<a href=\"https://colab.research.google.com/github/ibraheem-02/Python_Programs/blob/main/Assignment01.ipynb\" target=\"_parent\"><img src=\"https://colab.research.google.com/assets/colab-badge.svg\" alt=\"Open In Colab\"/></a>"
      ]
    },
    {
      "cell_type": "markdown",
      "source": [
        "# **Section A: Basics & Expressions**\n",
        "1.Swapping two Numbers without using third variable."
      ],
      "metadata": {
        "id": "iWisKUfFWlux"
      }
    },
    {
      "cell_type": "code",
      "execution_count": null,
      "metadata": {
        "id": "PIy5CAU8Wf1F"
      },
      "outputs": [],
      "source": [
        "N1 =  int (input(\"Enter first No:\"))\n",
        "N2 =  int (input(\"Enter Second No:\"))\n",
        "print(\"Values befor Swapping:\")\n",
        "print(\"N1 = \",N1 , \", N2 = \",N2)\n",
        "N1 = N1 + N2\n",
        "N2 = N1 - N2\n",
        "N1 = N1 - N2\n",
        "print(\"Values after Swapping:\")\n",
        "print(\"N1 = \",N1 , \", N2 = \",N2)"
      ]
    },
    {
      "cell_type": "code",
      "source": [
        "# without taking in putfrom user\n",
        "N1 = 5\n",
        "N2 = 10\n",
        "\n",
        "N1 = N1 + N2\n",
        "N2 = N1 - N2\n",
        "N1 = N1 - N2\n",
        "print(\"Values after Swapping:\")\n",
        "print(\"N1 = \",N1 , \", N2 = \",N2)"
      ],
      "metadata": {
        "colab": {
          "base_uri": "https://localhost:8080/"
        },
        "id": "RTR3k8Fecmj7",
        "outputId": "231f4894-2dad-46b9-f70b-801475b8da44"
      },
      "execution_count": null,
      "outputs": [
        {
          "output_type": "stream",
          "name": "stdout",
          "text": [
            "Values after Swapping:\n",
            "N1 =  10 , N2 =  5\n"
          ]
        }
      ]
    },
    {
      "cell_type": "markdown",
      "source": [
        "2.Convert Seconds into hours,minutes and seconds(366 => 1 hour,1 minute,1 second)"
      ],
      "metadata": {
        "id": "CH8Zpz3SdTQv"
      }
    },
    {
      "cell_type": "code",
      "source": [
        "n = int(input(\"Enter time in seconds\"))\n",
        "hours = n // 3600\n",
        "minutes = (n % 3600) // 60\n",
        "seconds = (n % 3600) % 60\n",
        "print(hours,\"Hour\",\":\",minutes,\"Minute\",\":\",seconds,\"Seconds\")\n"
      ],
      "metadata": {
        "colab": {
          "base_uri": "https://localhost:8080/"
        },
        "id": "3i9LnewNdsoo",
        "outputId": "0b6e81a9-1e0f-448c-ee32-8eb7a0df4924"
      },
      "execution_count": null,
      "outputs": [
        {
          "output_type": "stream",
          "name": "stdout",
          "text": [
            "Enter time in seconds3661\n",
            "1 Hour : 1 Minute : 1 Seconds\n"
          ]
        }
      ]
    },
    {
      "cell_type": "markdown",
      "source": [
        "3.Ask user for age in years,convert it into month and print result"
      ],
      "metadata": {
        "id": "ZxmKv_c5esiT"
      }
    },
    {
      "cell_type": "code",
      "source": [
        "age = int(input(\"Enter age in years: \"))\n",
        "print(age*12,\"Months\")\n"
      ],
      "metadata": {
        "id": "dhtFmUvPe592",
        "colab": {
          "base_uri": "https://localhost:8080/"
        },
        "outputId": "fcb1fff6-26b4-44a2-f088-c1197ee65695"
      },
      "execution_count": null,
      "outputs": [
        {
          "output_type": "stream",
          "name": "stdout",
          "text": [
            "Enter age in years: 21\n",
            "252 Months\n"
          ]
        }
      ]
    },
    {
      "cell_type": "markdown",
      "source": [
        "# **Section B: Conditions & Decisions ** **bold text**\n",
        "4.Take a number as input and check weather it is divisible by both 3 and 5."
      ],
      "metadata": {
        "id": "rSgwS0OlgIs8"
      }
    },
    {
      "cell_type": "code",
      "source": [
        "Num = int(input(\"Enter a number\"))\n",
        "if Num % 3 == 0 and Num % 5 == 0:\n",
        "  print(\"Number is divisible by both 3 and 5\")\n",
        "else:\n",
        "  print(\"Number is not divisible by both 3 and 5\")"
      ],
      "metadata": {
        "id": "1c9EwMerg64K",
        "colab": {
          "base_uri": "https://localhost:8080/"
        },
        "outputId": "3e22f538-810e-4828-84b0-f028ec318ff2"
      },
      "execution_count": null,
      "outputs": [
        {
          "output_type": "stream",
          "name": "stdout",
          "text": [
            "Enter a number34\n",
            "Number is not divisible by both 3 and 5\n"
          ]
        }
      ]
    },
    {
      "cell_type": "markdown",
      "source": [
        "5.write a program that ask a user to input a year and check weather it is a leap year or not."
      ],
      "metadata": {
        "id": "nKbUizsQh-AZ"
      }
    },
    {
      "cell_type": "code",
      "source": [
        "year =int(input(\"Enter a year\"))\n",
        "if (year % 400 == 0) and (year % 100 == 0):# This line checks if the `year` is perfectly divisible by both 400 and 100 using the modulo operator (`%`). If **True**, it means the `year` is a leap year and prints a message accordingly.\n",
        "  print(year,\" is a leap year\")\n",
        "elif (year % 4 == 0) and (year % 100 != 0):# If the first condition is **False**, this line checks if the `year` is divisible by 4 but not by 100. If **True**, it's a leap year and prints a message.\n",
        "  print(year,\" is a leap year\")\n",
        "else:\n",
        "  print(year,\"is not a leap year\")"
      ],
      "metadata": {
        "colab": {
          "base_uri": "https://localhost:8080/"
        },
        "id": "Vdz1BtPeiagQ",
        "outputId": "48720c79-d2aa-47a8-ca60-5e824fd51085"
      },
      "execution_count": null,
      "outputs": [
        {
          "output_type": "stream",
          "name": "stdout",
          "text": [
            "Enter a year2000\n",
            "2000  is a leap year\n"
          ]
        }
      ]
    },
    {
      "cell_type": "markdown",
      "source": [
        "6. Ask the user to enter a username. If it matches \"admin\", print \"Access granted\", otherwise \"Access denied\".\n"
      ],
      "metadata": {
        "id": "PNgap0kkporE"
      }
    },
    {
      "cell_type": "code",
      "source": [
        "username = input(\"Enter username: \")\n",
        "if username == \"admin\":\n",
        "  print(\"Access granted\")\n",
        "else:\n",
        "  print(\"Access denied\")"
      ],
      "metadata": {
        "colab": {
          "base_uri": "https://localhost:8080/"
        },
        "id": "6-QjH2CK_sAT",
        "outputId": "639c54be-14b5-4383-e1eb-bcf621070320"
      },
      "execution_count": null,
      "outputs": [
        {
          "output_type": "stream",
          "name": "stdout",
          "text": [
            "Enter username: admin\n",
            "Access granted\n"
          ]
        }
      ]
    },
    {
      "cell_type": "markdown",
      "source": [
        "7. Check if a given chracter is vowel or consonent"
      ],
      "metadata": {
        "id": "oqBaUWJvAkfe"
      }
    },
    {
      "cell_type": "code",
      "source": [
        "char = input(\"Enter a character: \")\n",
        "if char == \"a\" or char == \"e\" or char == \"i\" or char == \"o\" or char == \"u\":\n",
        "  print(char,\"is a vowel\")\n",
        "elif char == \"A\" or char == \"E\" or char == \"I\" or char == \"O\" or char == \"U\":\n",
        "    print(char,\"is a vowel\")\n",
        "else:\n",
        "  print(char,\"is a consonent\")"
      ],
      "metadata": {
        "colab": {
          "base_uri": "https://localhost:8080/"
        },
        "id": "HzxUFRF7A0m8",
        "outputId": "f4160a16-8631-4fa5-bc2b-c3f2d1244e4a"
      },
      "execution_count": null,
      "outputs": [
        {
          "output_type": "stream",
          "name": "stdout",
          "text": [
            "Enter a character: A\n",
            "A is a vowel\n"
          ]
        }
      ]
    },
    {
      "cell_type": "markdown",
      "source": [
        "8. Write a program that takes four numbers as input and print the smallest one."
      ],
      "metadata": {
        "id": "r_vPnYxfC55E"
      }
    },
    {
      "cell_type": "code",
      "source": [
        "n1 = int(input(\"Enter 1st number: \"))\n",
        "n2 = int(input(\"Enter 2nd number: \"))\n",
        "n3 = int(input(\"Enter 3rd number: \"))\n",
        "n4 = int(input(\"Enter 4th number: \"))\n",
        "if (n1 < n2 and n1 < n3 and n1 < n4):\n",
        "  print(n1,\"is the smallest number\")\n",
        "elif(n2 < n1 and n2 < n3 and n2 < n4):\n",
        "    print(n2,\"is the smallest number\")\n",
        "elif(n3 < n1 and n3 < n2 and n3 < n4):\n",
        "      print(n3,\"is the smallest number\")\n",
        "else:\n",
        "    print(n4,\"is the smallest number\")"
      ],
      "metadata": {
        "colab": {
          "base_uri": "https://localhost:8080/"
        },
        "id": "7LtTyDRADMA-",
        "outputId": "c3ac1522-3e42-40a8-bb48-40ed0c906c56"
      },
      "execution_count": null,
      "outputs": [
        {
          "output_type": "stream",
          "name": "stdout",
          "text": [
            "Enter 1st number: 4\n",
            "Enter 2nd number: 6\n",
            "Enter 3rd number: 9\n",
            "Enter 4th number: 11\n",
            "4 is the smallest number\n"
          ]
        }
      ]
    },
    {
      "cell_type": "markdown",
      "source": [
        "9. Take temperature (in Celsius) from user and:\n",
        "If it’s >40, print “Too Hot”\n",
        "If it’s between 20–40, print “Pleasant”\n",
        "If it’s below 20, print “Too Cold”"
      ],
      "metadata": {
        "id": "uBEPNRt0FO1p"
      }
    },
    {
      "cell_type": "code",
      "source": [
        "tem = float(input(\"Enter temperature in Celsius: \"))\n",
        "if (tem > 40):\n",
        "  print(\"Too Hot\")\n",
        "elif (tem >= 20 and tem <= 40): #between 20 to 40\n",
        "  print(\"Pleasant\")\n",
        "elif (tem < 20):\n",
        "  print(\"Too Cold\")\n",
        "else:\n",
        "  print(\"Invalid input\")"
      ],
      "metadata": {
        "colab": {
          "base_uri": "https://localhost:8080/"
        },
        "id": "pXXpRE3TFmR5",
        "outputId": "10903ed3-326b-46fc-8433-05760c2c574c"
      },
      "execution_count": null,
      "outputs": [
        {
          "output_type": "stream",
          "name": "stdout",
          "text": [
            "Enter temperature in Celsius: 40\n",
            "Pleasant\n"
          ]
        }
      ]
    },
    {
      "cell_type": "markdown",
      "source": [
        "# **Section C:Loops(for,while)**\n",
        "10. Print all numbers from 1 to 100 that are divisible by 7 in one line."
      ],
      "metadata": {
        "id": "-cOzjVdvG6tR"
      }
    },
    {
      "cell_type": "code",
      "source": [
        "for i in range(1,100):\n",
        "  if (i % 7 == 0):\n",
        "    print(i,end = \" \")"
      ],
      "metadata": {
        "colab": {
          "base_uri": "https://localhost:8080/"
        },
        "id": "_-5j2GO7HgUt",
        "outputId": "0aec00ac-d77a-4cf2-cce2-8ba15b384381"
      },
      "execution_count": null,
      "outputs": [
        {
          "output_type": "stream",
          "name": "stdout",
          "text": [
            "7 14 21 28 35 42 49 56 63 70 77 84 91 98 "
          ]
        }
      ]
    },
    {
      "cell_type": "markdown",
      "source": [
        "11. Write a program that prints all prime numbers between 1 and 50."
      ],
      "metadata": {
        "id": "DCsE8FmJH8q-"
      }
    },
    {
      "cell_type": "code",
      "source": [
        "for i in range(1,51):\n",
        "  if i > 1: #skips i = 1 since 1 is not a prime number\n",
        "    for j in range(2,i):\n",
        "      if (i % j == 0 ):\n",
        "        break\n",
        "    else:\n",
        "        print(i)"
      ],
      "metadata": {
        "id": "Ydi2GqvLIBqt",
        "colab": {
          "base_uri": "https://localhost:8080/"
        },
        "outputId": "d8ccff51-cd84-4cbb-914e-de116b33be87"
      },
      "execution_count": null,
      "outputs": [
        {
          "output_type": "stream",
          "name": "stdout",
          "text": [
            "2\n",
            "3\n",
            "5\n",
            "7\n",
            "11\n",
            "13\n",
            "17\n",
            "19\n",
            "23\n",
            "29\n",
            "31\n",
            "37\n",
            "41\n",
            "43\n",
            "47\n"
          ]
        }
      ]
    },
    {
      "cell_type": "markdown",
      "source": [
        "12. Take a number n and print its digits in reverse using a while loop."
      ],
      "metadata": {
        "id": "C2R5XaP8aste"
      }
    },
    {
      "cell_type": "code",
      "source": [
        "n = int(input(\"Enter a number: \"))\n",
        "while n > 0:\n",
        "  digit = n % 10\n",
        "  print(digit,end = \"\")\n",
        "  n = n // 10"
      ],
      "metadata": {
        "colab": {
          "base_uri": "https://localhost:8080/"
        },
        "id": "nzhR67hzavXy",
        "outputId": "71d05ec8-3b36-4f87-aa98-ae587a215d7a"
      },
      "execution_count": null,
      "outputs": [
        {
          "output_type": "stream",
          "name": "stdout",
          "text": [
            "Enter a number: 17\n",
            "71"
          ]
        }
      ]
    },
    {
      "cell_type": "markdown",
      "source": [
        "13. Sum of All Even Numbers Between 1 and 50 (Using a For Loop)."
      ],
      "metadata": {
        "id": "SJ8C4YGOOqdB"
      }
    },
    {
      "cell_type": "code",
      "source": [
        "sum = 1\n",
        "for i in range(1,51):\n",
        "  if (i % 2 == 0):\n",
        "    sum = sum + i\n",
        "print(\"Sum is :\",sum)"
      ],
      "metadata": {
        "colab": {
          "base_uri": "https://localhost:8080/"
        },
        "id": "Uqd4jsZzOr6B",
        "outputId": "d7aab00e-7aea-406d-b149-390c6ddeec01"
      },
      "execution_count": null,
      "outputs": [
        {
          "output_type": "stream",
          "name": "stdout",
          "text": [
            "Sum is : 651\n"
          ]
        }
      ]
    },
    {
      "cell_type": "markdown",
      "source": [
        "14. Create a program that keeps asking the user for a password until the correct one is entered (\"Python123\"). Use a loop."
      ],
      "metadata": {
        "id": "88rNtTpVQxCa"
      }
    },
    {
      "cell_type": "code",
      "source": [
        "password = \"Python123\"\n",
        "while True:\n",
        "  input_password = input(\"Enter password: \")\n",
        "  if (input_password == password):\n",
        "    print(\"Access granted\")\n",
        "    break\n",
        "  else:\n",
        "    print(\"Access denied\")"
      ],
      "metadata": {
        "colab": {
          "base_uri": "https://localhost:8080/"
        },
        "id": "jZ8cDrCtQ_Ao",
        "outputId": "8305f9cb-6473-40c3-e5ad-1d8660b86aba"
      },
      "execution_count": null,
      "outputs": [
        {
          "output_type": "stream",
          "name": "stdout",
          "text": [
            "Enter password: python12\n",
            "Access denied\n",
            "Enter password: Python123\n",
            "Access granted\n"
          ]
        }
      ]
    },
    {
      "cell_type": "markdown",
      "source": [
        "15. Write a program that takes an integer as input and compute the factorial of a given number using a for loop."
      ],
      "metadata": {
        "id": "iAmc1YsccG7e"
      }
    },
    {
      "cell_type": "code",
      "source": [
        "num = int(input(\"Enter a number: \"))\n",
        "fact = 1\n",
        "if (num < 0):\n",
        "  print(\"Factorial does not exist\")\n",
        "elif (num == 0):\n",
        "  print(\"Factorial of \",num, \" is 1\")\n",
        "else:\n",
        "  for i in range(1,num + 1):\n",
        "    fact = fact * i\n",
        "  print(\"Factorial is :\",fact)"
      ],
      "metadata": {
        "colab": {
          "base_uri": "https://localhost:8080/"
        },
        "id": "BYUyZzDplpOm",
        "outputId": "ab73c70d-f829-42c6-e45a-1465d8196308"
      },
      "execution_count": null,
      "outputs": [
        {
          "output_type": "stream",
          "name": "stdout",
          "text": [
            "Enter a number: 5\n",
            "Factorial is : 120\n"
          ]
        }
      ]
    },
    {
      "cell_type": "markdown",
      "source": [
        "16. Write a program that print Fibonacci sequence:\n",
        "1,1,2,3,5,8,13,21,34,55,89."
      ],
      "metadata": {
        "id": "FBFBDvsrfg0r"
      }
    },
    {
      "cell_type": "code",
      "source": [
        "a = 1\n",
        "b = 1\n",
        "print(a,b,end = \" \")\n",
        "while True:\n",
        "  c = a + b\n",
        "  if c > 89:\n",
        "    break\n",
        "  print(c,end = \" \")\n",
        "  a = b\n",
        "  b = c"
      ],
      "metadata": {
        "id": "xbwDqgEZfivD",
        "colab": {
          "base_uri": "https://localhost:8080/"
        },
        "outputId": "13149900-1804-446a-a36a-a63712337f5a"
      },
      "execution_count": null,
      "outputs": [
        {
          "output_type": "stream",
          "name": "stdout",
          "text": [
            "1 1 2 3 5 8 13 21 34 55 89 "
          ]
        }
      ]
    },
    {
      "cell_type": "markdown",
      "source": [
        "# **Section D:Strings.**\n",
        "17. Check if a given string is a palindrome (e.g., madam or level)."
      ],
      "metadata": {
        "id": "KdEy0d0-sXj1"
      }
    },
    {
      "cell_type": "code",
      "source": [
        "str = input(\"Enter a string: \")\n",
        "if (str == str[::-1]): #string slicing\n",
        "  print(str,\"is a palindrome\")\n",
        "else:\n",
        "  print(str,\"is not a palindrome\")"
      ],
      "metadata": {
        "colab": {
          "base_uri": "https://localhost:8080/"
        },
        "id": "ATH-0VGgsw1M",
        "outputId": "12cd582c-12a0-4b35-aa17-d2cd04fd868f"
      },
      "execution_count": null,
      "outputs": [
        {
          "output_type": "stream",
          "name": "stdout",
          "text": [
            "Enter a string: leval\n",
            "leval is not a palindrome\n"
          ]
        }
      ]
    },
    {
      "cell_type": "markdown",
      "source": [
        "18. Take a sentence from the user and count how many words it contains."
      ],
      "metadata": {
        "id": "qnBWTyg96I4W"
      }
    },
    {
      "cell_type": "code",
      "source": [
        "sentence = input(\"Enter a sentence: \")\n",
        "print(\"Number of words in sentence are: \",len(sentence))"
      ],
      "metadata": {
        "colab": {
          "base_uri": "https://localhost:8080/"
        },
        "id": "SiimabpI6PVH",
        "outputId": "8ed373b9-2c6b-440f-9849-388cafefc142"
      },
      "execution_count": null,
      "outputs": [
        {
          "output_type": "stream",
          "name": "stdout",
          "text": [
            "Enter a sentence: I am Muhammad Ibrahim currently enrolled in IMCS at University of sindh\n",
            "Number of words in sentence are:  71\n"
          ]
        }
      ]
    },
    {
      "cell_type": "markdown",
      "source": [
        "19. Ask the user to enter their email and check if it ends with @gmail.com."
      ],
      "metadata": {
        "id": "o9nXCjcL7kUY"
      }
    },
    {
      "cell_type": "code",
      "source": [
        "email = input(\"Enter your email: \")\n",
        "if (email.endswith(\"@gmail.com\")):\n",
        "  print(\"Email is valid\")\n",
        "else:\n",
        "  print(\"Email is invalid\")"
      ],
      "metadata": {
        "colab": {
          "base_uri": "https://localhost:8080/"
        },
        "id": "jyeEOy0Y7pjy",
        "outputId": "980ad1b1-81c9-43b1-f429-06d8ef5b09fc"
      },
      "execution_count": null,
      "outputs": [
        {
          "output_type": "stream",
          "name": "stdout",
          "text": [
            "Enter your email: mibrahimkhalid306@gmail.com\n",
            "Email is valid\n"
          ]
        }
      ]
    },
    {
      "cell_type": "markdown",
      "source": [
        "20. From a sentence, remove all vowels and print the result."
      ],
      "metadata": {
        "id": "JMlnaDF88r0t"
      }
    },
    {
      "cell_type": "code",
      "source": [
        "sentence = input(\"Enter a sentence: \")\n",
        "vowels = \"aeiou\" and \"AEIOU\"\n",
        "for i in vowels:\n",
        "  sentence = sentence.replace(i,\"\")\n",
        "print(sentence)"
      ],
      "metadata": {
        "colab": {
          "base_uri": "https://localhost:8080/"
        },
        "id": "tClYhSsg8w--",
        "outputId": "b8b7ae06-3856-4645-be9a-e2300cea8056"
      },
      "execution_count": null,
      "outputs": [
        {
          "output_type": "stream",
          "name": "stdout",
          "text": [
            "Enter a sentence: IBRAHIM\n",
            "BRHM\n"
          ]
        }
      ]
    },
    {
      "cell_type": "markdown",
      "source": [
        "21. Ask the user for a string and a letter, then count how many times that letter appears."
      ],
      "metadata": {
        "id": "gOdOerB1f_VK"
      }
    },
    {
      "cell_type": "code",
      "source": [
        "str = input(\"Enter a string: \")\n",
        "letter = input(\"Enter a letter: \")\n",
        "count = 0\n",
        "for i in str:\n",
        "  if (i == letter):\n",
        "    count = count + 1\n",
        "print(\"Number of times\",letter,\"appears in\",str,\"is\",count)"
      ],
      "metadata": {
        "colab": {
          "base_uri": "https://localhost:8080/"
        },
        "id": "jSRAu8C8gCDV",
        "outputId": "4cfedd93-3441-4a2d-9ff3-247324ccfcd7"
      },
      "execution_count": null,
      "outputs": [
        {
          "output_type": "stream",
          "name": "stdout",
          "text": [
            "Enter a string: Ibrahim\n",
            "Enter a letter: i\n",
            "Number of times i appears in Ibrahim is 1\n"
          ]
        }
      ]
    },
    {
      "cell_type": "markdown",
      "source": [
        "# **Section E: List Tuples and Functions.**"
      ],
      "metadata": {
        "id": "GabSEyoEhb1d"
      }
    },
    {
      "cell_type": "markdown",
      "source": [
        "22. Create a tuple of 5 cities and use a loop to print each one."
      ],
      "metadata": {
        "id": "Q3-8oUe5hnZt"
      }
    },
    {
      "cell_type": "code",
      "source": [
        "cities = (\"Krachi\", \"Shahdadpur\" ,\"Hyderbad\",\"Sanghar\",\"Jamshoro\")\n",
        "for i in cities:\n",
        "  print(i)"
      ],
      "metadata": {
        "colab": {
          "base_uri": "https://localhost:8080/"
        },
        "id": "D6gcAHiMhuB7",
        "outputId": "3d6cef4d-f576-481e-cae4-7f43e9c3a4de"
      },
      "execution_count": null,
      "outputs": [
        {
          "output_type": "stream",
          "name": "stdout",
          "text": [
            "Krachi\n",
            "Shahdadpur\n",
            "Hyderbad\n",
            "Sanghar\n",
            "Jamshoro\n"
          ]
        }
      ]
    },
    {
      "cell_type": "markdown",
      "source": [
        "23. Ask the user to enter 5 numbers and store them in a list. Then:\n",
        "Sort the list\n",
        "Print the max and min\n",
        "Find the average\n"
      ],
      "metadata": {
        "id": "qpLf72nPiexl"
      }
    },
    {
      "cell_type": "code",
      "source": [
        "Number = []\n",
        "for i in range(1,6):\n",
        "  print(\"Enter Number \",i ,\" = \",end = '')\n",
        "  num = int(input())\n",
        "  Number.append(num)\n",
        "# Sort operation\n",
        "Number.sort()\n",
        "print(\"Sorted list is = \",Number)\n",
        "\n",
        "# min number\n",
        "print(\"Min number is = \",Number[0])\n",
        "\n",
        "# max number\n",
        "print(\"Max number is = \",Number[5-1])\n",
        "\n",
        "# Caculate average\n",
        "total = 0\n",
        "for num in Number:\n",
        "   total += int(num) #add each num to total and covert str to integer\n",
        "print(\"Average is: \",total/len(Number))"
      ],
      "metadata": {
        "id": "eg1X58pJiZ5U"
      },
      "execution_count": null,
      "outputs": []
    },
    {
      "cell_type": "markdown",
      "source": [
        "24. Write a python program that must define 4 functions add, subtract,\n",
        "multiply, divide. The program will work as below:\n",
        "Take two integer inputs\n",
        "Show the following menu:\n",
        "1 Addition\n",
        "2 Subtraction\n",
        "3 Multiplication\n",
        "4 Division\n",
        "5 Exit\n",
        "What do you want to do?\n",
        "Now ask user’s choice from 1-5 and call the appropriate\n",
        "function and print the result.\n",
        "Repeat the entire process until user choose option 5 for Exit"
      ],
      "metadata": {
        "id": "zeGEi5IcqV2R"
      }
    },
    {
      "cell_type": "code",
      "source": [
        "def add(a, b):\n",
        "    return a + b\n",
        "\n",
        "def subtract(a, b):\n",
        "    return a - b\n",
        "\n",
        "def multiply(a, b):\n",
        "    return a * b\n",
        "\n",
        "def divide(a, b):\n",
        "    if b == 0:\n",
        "        return \"Error: Cannot divide by zero!\"\n",
        "    return a / b\n",
        "\n",
        "while True:\n",
        "    num1 = int(input(\"Enter first number: \"))\n",
        "    num2 = int(input(\"Enter second number: \"))\n",
        "\n",
        "    # show menue\n",
        "    print(\"1. Addition\")\n",
        "    print(\"2. Subtraction\")\n",
        "    print(\"3. Multiplication\")\n",
        "    print(\"4. Division\")\n",
        "    print(\"5. Exit\")\n",
        "\n",
        "    choice = int(input(\"What do you want to do? \"))\n",
        "    # call function based on choice\n",
        "    if choice == 1:\n",
        "        print(\"Result: \", add(num1, num2))\n",
        "    elif choice == 2:\n",
        "            print(\"Result: \", subtract(num1, num2))\n",
        "    elif choice == 3:\n",
        "        print(\"Result: \", multiply(num1, num2))\n",
        "    elif choice == 4:\n",
        "        print(\"Result: \", divide(num1, num2))\n",
        "\n",
        "    elif choice == 5:\n",
        "        print(\"Exiting the program.\")\n",
        "        break\n",
        "    else:\n",
        "        print(\"Invalid choice. Please select a valid option.\")"
      ],
      "metadata": {
        "colab": {
          "base_uri": "https://localhost:8080/"
        },
        "id": "BOT6JSLhqd8N",
        "outputId": "aed4f1cc-aa64-4881-d901-ec7920a7a170"
      },
      "execution_count": null,
      "outputs": [
        {
          "output_type": "stream",
          "name": "stdout",
          "text": [
            "Enter first number: 4\n",
            "Enter second number: 5\n",
            "1. Addition\n",
            "2. Subtraction\n",
            "3. Multiplication\n",
            "4. Division\n",
            "5. Exit\n",
            "What do you want to do? 1\n",
            "Result:  9\n",
            "Enter first number: 6\n",
            "Enter second number: 4\n",
            "1. Addition\n",
            "2. Subtraction\n",
            "3. Multiplication\n",
            "4. Division\n",
            "5. Exit\n",
            "What do you want to do? 6\n",
            "Invalid choice. Please select a valid option.\n",
            "Enter first number: 5\n",
            "Enter second number: 3\n",
            "1. Addition\n",
            "2. Subtraction\n",
            "3. Multiplication\n",
            "4. Division\n",
            "5. Exit\n",
            "What do you want to do? 2\n",
            "Result:  2\n",
            "Enter first number: 3\n",
            "Enter second number: 4\n",
            "1. Addition\n",
            "2. Subtraction\n",
            "3. Multiplication\n",
            "4. Division\n",
            "5. Exit\n",
            "What do you want to do? 5\n",
            "Exiting the program.\n"
          ]
        }
      ]
    },
    {
      "cell_type": "markdown",
      "source": [
        "25. Write a program that takes a number and a character from user and produce output as below:\n",
        "Enter the number of lines of triangle: 6\n",
        "And a character: *\n",
        "Note: To print every line, you must define a function line(no, ch). For example, line(7,'*') should print *******, similarly line (2,'*') should print **."
      ],
      "metadata": {
        "id": "MDbbonKmtMlz"
      }
    },
    {
      "cell_type": "code",
      "source": [
        "def line(no, ch):\n",
        "    print(ch * no)\n",
        "\n",
        "n = int(input(\"Enter the number of lines of triangle: \"))\n",
        "ch = input(\"Enter a character: \")\n",
        "\n",
        "for i in range(1, n + 1):\n",
        "    line(i, ch)"
      ],
      "metadata": {
        "colab": {
          "base_uri": "https://localhost:8080/"
        },
        "id": "We9TgIJxtSNb",
        "outputId": "c99a197f-19cd-42eb-b209-d5ec88c99a13"
      },
      "execution_count": null,
      "outputs": [
        {
          "output_type": "stream",
          "name": "stdout",
          "text": [
            "Enter the number of lines of triangle: 6\n",
            "Enter a character: *\n",
            "*\n",
            "**\n",
            "***\n",
            "****\n",
            "*****\n",
            "******\n"
          ]
        }
      ]
    }
  ]
}