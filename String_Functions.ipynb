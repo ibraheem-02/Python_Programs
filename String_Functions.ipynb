{
  "nbformat": 4,
  "nbformat_minor": 0,
  "metadata": {
    "colab": {
      "provenance": [],
      "authorship_tag": "ABX9TyNrNC3w7O9Ot3n9yhUIp9Yz",
      "include_colab_link": true
    },
    "kernelspec": {
      "name": "python3",
      "display_name": "Python 3"
    },
    "language_info": {
      "name": "python"
    }
  },
  "cells": [
    {
      "cell_type": "markdown",
      "metadata": {
        "id": "view-in-github",
        "colab_type": "text"
      },
      "source": [
        "<a href=\"https://colab.research.google.com/github/ibraheem-02/Python_Programs/blob/main/String_Functions.ipynb\" target=\"_parent\"><img src=\"https://colab.research.google.com/assets/colab-badge.svg\" alt=\"Open In Colab\"/></a>"
      ]
    },
    {
      "cell_type": "markdown",
      "source": [
        "Creating String"
      ],
      "metadata": {
        "id": "Sfcpnykp_4Y3"
      }
    },
    {
      "cell_type": "code",
      "execution_count": 1,
      "metadata": {
        "colab": {
          "base_uri": "https://localhost:8080/"
        },
        "id": "1BOQZbb59nEZ",
        "outputId": "252631c5-c946-4e42-bfb1-b0bbfe614262"
      },
      "outputs": [
        {
          "output_type": "stream",
          "name": "stdout",
          "text": [
            "I am Muhammad Ibrahim.\n",
            "Student of IMCS at UOS.\n",
            "I'm Muhammad Ibrahim.\n",
            "Student of \"IMCS\" at UOS.\n"
          ]
        }
      ],
      "source": [
        "str = \"I am Muhammad Ibrahim.\\nStudent of IMCS at UOS.\"\n",
        "print(str)\n",
        "\n",
        "# Using upper trophy\n",
        "str = '''I'm Muhammad Ibrahim.\\nStudent of \"IMCS\" at UOS.'''\n",
        "print(str)\n"
      ]
    },
    {
      "cell_type": "markdown",
      "source": [
        "Functions of String"
      ],
      "metadata": {
        "id": "sDeaNvPFTmoP"
      }
    },
    {
      "cell_type": "code",
      "source": [
        "# concatination of two string\n",
        "str1 = \"Muhammad Ibrahim \"\n",
        "str2 = \"I am student of IMCS\"\n",
        "str = str1 + str2\n",
        "print(str)\n",
        "\n",
        "# lenth of string\n",
        "print(\"Length of string is: \",len(str))\n",
        "\n",
        "# Indexing of string\n",
        "# accesing chracter\n",
        "ch = str [9]\n",
        "print(\"Character 9 is \",ch)\n",
        "\n",
        "# to captalize first letter\n",
        "print(str1.capitalize()) # Store in new string creat itself\n",
        "print(\"i Capitalized\",str1)\n",
        "\n",
        "# replace string letters\n",
        "print(\"IMCS is Replaced with IMCS at UOS\")\n",
        "print(str.replace(\"IMCS\",\"IMCS at UOS\"))\n",
        "\n",
        "# find word it returns index of first accurence\n",
        "print(\"Letter I is at Index \",str.find(\"I\"))\n",
        "\n",
        "# if we search for letter that is not present it returns -1 coz its not valid index\n",
        "print(\"Letter not found \",str.find(\"z\"))\n",
        "\n",
        "# to count the letter how many time letter accur\n",
        "print(\"t accurs \",str.count(\"t\"))\n"
      ],
      "metadata": {
        "colab": {
          "base_uri": "https://localhost:8080/"
        },
        "id": "a2L3Pi0xTq3G",
        "outputId": "2492b860-fe25-47a2-e199-5a43acc35bdd"
      },
      "execution_count": 8,
      "outputs": [
        {
          "output_type": "stream",
          "name": "stdout",
          "text": [
            "Muhammad Ibrahim I am student of IMCS\n",
            "Length of string is:  37\n",
            "Character 9 is  I\n",
            "Muhammad ibrahim \n",
            "i Capitalized Muhammad Ibrahim \n",
            "IMCS is Replaced with IMCS at UOS\n",
            "Muhammad Ibrahim I am student of IMCS at UOS\n",
            "Letter I is at Index  9\n",
            "Letter not found  -1\n",
            "t accurs  2\n"
          ]
        }
      ]
    }
  ]
}