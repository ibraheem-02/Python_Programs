{
  "nbformat": 4,
  "nbformat_minor": 0,
  "metadata": {
    "colab": {
      "provenance": [],
      "authorship_tag": "ABX9TyNXgSkF2Ygol4cQE1DLBWsf",
      "include_colab_link": true
    },
    "kernelspec": {
      "name": "python3",
      "display_name": "Python 3"
    },
    "language_info": {
      "name": "python"
    }
  },
  "cells": [
    {
      "cell_type": "markdown",
      "metadata": {
        "id": "view-in-github",
        "colab_type": "text"
      },
      "source": [
        "<a href=\"https://colab.research.google.com/github/ibraheem-02/Python_Programs/blob/main/OOP_Python.ipynb\" target=\"_parent\"><img src=\"https://colab.research.google.com/assets/colab-badge.svg\" alt=\"Open In Colab\"/></a>"
      ]
    },
    {
      "cell_type": "markdown",
      "source": [
        "create a class and object (Basic Structure)"
      ],
      "metadata": {
        "id": "E_MV5_qyuHNj"
      }
    },
    {
      "cell_type": "code",
      "execution_count": null,
      "metadata": {
        "colab": {
          "base_uri": "https://localhost:8080/"
        },
        "id": "b80f0lWms2up",
        "outputId": "56cf3cf9-8948-4576-f803-25e79c8ea14c"
      },
      "outputs": [
        {
          "output_type": "stream",
          "name": "stdout",
          "text": [
            "Ali\n",
            "Ali\n"
          ]
        }
      ],
      "source": [
        "class Student:\n",
        "  name = \"Ali\"\n",
        "  DOB = \"1 jan 2009\"\n",
        "\n",
        "s1 = Student()\n",
        "print(s1.name)\n",
        "s2 = Student()\n",
        "print(s2.name)"
      ]
    },
    {
      "cell_type": "markdown",
      "source": [
        "create a class with instructor"
      ],
      "metadata": {
        "id": "gTbBmoY4uF73"
      }
    },
    {
      "cell_type": "code",
      "source": [
        "class Student:\n",
        "  def __init__(self,name,DOB):\n",
        "    self.name = name\n",
        "    self.DOB = DOB\n",
        "\n",
        "s1 = Student(\"Ali\",\"1 jan 2009\")\n",
        "print(s1.name)\n",
        "print(s1.DOB)\n",
        "s2 = Student(\"Ahmed\",\"1 feb 2009\")\n",
        "print(s2.name)\n",
        "print(s2.DOB)"
      ],
      "metadata": {
        "colab": {
          "base_uri": "https://localhost:8080/"
        },
        "id": "iu5riBqVvhOd",
        "outputId": "3835b831-260a-4b06-f5a1-dc2b39eef938"
      },
      "execution_count": null,
      "outputs": [
        {
          "output_type": "stream",
          "name": "stdout",
          "text": [
            "Ali\n",
            "1 jan 2009\n",
            "Ahmed\n",
            "1 feb 2009\n"
          ]
        }
      ]
    },
    {
      "cell_type": "markdown",
      "source": [
        "Multiple parameters in constructor"
      ],
      "metadata": {
        "id": "a_1J_HauylW_"
      }
    },
    {
      "cell_type": "code",
      "source": [
        "class Student:\n",
        "  def __init__(self,name,DOB):\n",
        "    self.name = name\n",
        "    self.DOB = DOB\n",
        "\n",
        "s1 = Student(\"Ali\",\"1 jan 2009\")\n",
        "print(s1.name)\n",
        "print(s1.DOB)\n",
        "s2 = Student(\"Ahmed\",\"1 feb 2009\")\n",
        "print(s2.name)\n",
        "print(s2.DOB)"
      ],
      "metadata": {
        "colab": {
          "base_uri": "https://localhost:8080/"
        },
        "id": "Ci1R5STsyqJ7",
        "outputId": "3927f529-0dc5-47c7-ddbf-b995770aa7f7"
      },
      "execution_count": null,
      "outputs": [
        {
          "output_type": "stream",
          "name": "stdout",
          "text": [
            "Ali\n",
            "1 jan 2009\n",
            "Ahmed\n",
            "1 feb 2009\n"
          ]
        }
      ]
    },
    {
      "cell_type": "code",
      "source": [
        "class Teacher:\n",
        "  def __init__(self,name,salary):\n",
        "    self.name = name\n",
        "    self.salary = salary\n",
        "T1 = Teacher(\"sara\",105000)\n",
        "print(T1.name,T1.salary)"
      ],
      "metadata": {
        "colab": {
          "base_uri": "https://localhost:8080/"
        },
        "id": "12HHbYquzTVU",
        "outputId": "9585f5e2-101b-4a15-952c-0e2c2bbea89a"
      },
      "execution_count": null,
      "outputs": [
        {
          "output_type": "stream",
          "name": "stdout",
          "text": [
            "sara 105000\n"
          ]
        }
      ]
    },
    {
      "cell_type": "markdown",
      "source": [
        "Inheritance"
      ],
      "metadata": {
        "id": "gCHAVKhLFoCV"
      }
    },
    {
      "cell_type": "code",
      "source": [
        " # Main class\n",
        "class Person:\n",
        "    def __init__(self, name, age, gender):\n",
        "        self.name = name\n",
        "        self.age = age\n",
        "        self.gender = gender\n",
        "\n",
        "# Subclass: Student\n",
        "class Student(Person):\n",
        "    def __init__(self, name, age, gender, student_id):\n",
        "        super().__init__(name, age, gender)\n",
        "        self.student_id = student_id\n",
        "\n",
        "# Subclass: Teacher\n",
        "class Teacher(Person):\n",
        "    def __init__(self, name, age, gender, subject):\n",
        "        super().__init__(name, age, gender)\n",
        "        self.subject = subject\n",
        "\n",
        "# Subclass: Employee\n",
        "class Employee(Person):\n",
        "    def __init__(self, name, age, gender, department):\n",
        "        super().__init__(name, age, gender)\n",
        "        self.department = department\n",
        "\n",
        "# Create objects\n",
        "student = Student(\"Muhammad Ibrahim\", 20, \"Male\", \"CSE/94\")\n",
        "teacher = Teacher(\"Maam Farhat Naureen\", 40, \"Female\", \"Python\")\n",
        "employee = Employee(\"Ahmed\", 40, \"Male\", \"HR\")\n",
        "\n",
        "# Access and print attributes directly\n",
        "print(\"Student Information\")\n",
        "print(\"Name:\", student.name)\n",
        "print(\"Age:\", student.age)\n",
        "print(\"Gender:\", student.gender)\n",
        "print(\"Student ID:\", student.student_id)\n",
        "\n",
        "print(\"\\nTeacher Information\")\n",
        "print(\"Name:\", teacher.name)\n",
        "print(\"Age:\", teacher.age)\n",
        "print(\"Gender:\", teacher.gender)\n",
        "print(\"Subject:\", teacher.subject)\n",
        "\n",
        "print(\"\\nEmployee Information\")\n",
        "print(\"Name:\", employee.name)\n",
        "print(\"Age:\", employee.age)\n",
        "print(\"Gender:\", employee.gender)\n",
        "print(\"Department:\", employee.department)\n"
      ],
      "metadata": {
        "id": "CN4k2ZAc0mWn",
        "colab": {
          "base_uri": "https://localhost:8080/"
        },
        "outputId": "b4942ab3-d050-40bc-910b-5678aeaf20c6"
      },
      "execution_count": null,
      "outputs": [
        {
          "output_type": "stream",
          "name": "stdout",
          "text": [
            "Student Information\n",
            "Name: Muhammad Ibrahim\n",
            "Age: 20\n",
            "Gender: Male\n",
            "Student ID: CSE/94\n",
            "\n",
            "Teacher Information\n",
            "Name: Maam Farhat Naureen\n",
            "Age: 40\n",
            "Gender: Female\n",
            "Subject: Python\n",
            "\n",
            "Employee Information\n",
            "Name: Ahmed\n",
            "Age: 40\n",
            "Gender: Male\n",
            "Department: HR\n"
          ]
        }
      ]
    },
    {
      "cell_type": "markdown",
      "source": [
        "PolyMorphism with operator overloading"
      ],
      "metadata": {
        "id": "fYGPUcY6FsYr"
      }
    },
    {
      "cell_type": "code",
      "source": [
        "print( 5 + 10 )     #int addition\n",
        "print( 7.5 + 9.11 ) # float addition\n",
        "print( \"IMCS\" + \",UOS\" ) # string concatenation\n",
        "print( [1,2,3] + [4,5,6] ) # list concatenation(merge list)"
      ],
      "metadata": {
        "colab": {
          "base_uri": "https://localhost:8080/"
        },
        "id": "aL1c-SGbFrtN",
        "outputId": "8ee235b0-95f6-4071-a43a-6354ceac9e89"
      },
      "execution_count": 1,
      "outputs": [
        {
          "output_type": "stream",
          "name": "stdout",
          "text": [
            "15\n",
            "16.61\n",
            "IMCS,UOS\n",
            "[1, 2, 3, 4, 5, 6]\n"
          ]
        }
      ]
    },
    {
      "cell_type": "markdown",
      "source": [
        "Operator overloading create a class for complex number and overload + operator"
      ],
      "metadata": {
        "id": "EZoxcN9CGqvs"
      }
    },
    {
      "cell_type": "code",
      "source": [
        "class Complex:\n",
        "  def __init__(self,real,imag):\n",
        "    self.real = real\n",
        "    self.imag = imag\n",
        "\n",
        "  def display(self):\n",
        "    print(self.real,\"i+\",self.imag,\"j\")\n",
        "\n",
        "  def add(self,num2):\n",
        "    newReal = self.real + num2.real\n",
        "    newImag = self.imag + num2.imag\n",
        "    return Complex(newReal,newImag)\n",
        "n1 = Complex(5,6)\n",
        "n1.display()\n",
        "\n",
        "n2 = Complex(7,8)\n",
        "n2.display()\n",
        "n3 = n1.add(n2)\n",
        "n3.display()\n"
      ],
      "metadata": {
        "colab": {
          "base_uri": "https://localhost:8080/"
        },
        "id": "8TbwWuLXG4zV",
        "outputId": "544064b1-9b68-4817-f838-50e70e6791ef"
      },
      "execution_count": 2,
      "outputs": [
        {
          "output_type": "stream",
          "name": "stdout",
          "text": [
            "5 i+ 6 j\n",
            "7 i+ 8 j\n",
            "12 i+ 14 j\n"
          ]
        }
      ]
    },
    {
      "cell_type": "markdown",
      "source": [
        "Method overloading with default arguments"
      ],
      "metadata": {
        "id": "W8O-LPPqKfw2"
      }
    },
    {
      "cell_type": "code",
      "source": [
        "class Calculator:\n",
        "  def add(self,x,y=None,):\n",
        "    if y is None:\n",
        "      return x\n",
        "    else:\n",
        "      return x+y\n",
        "\n",
        "c1 = Calculator()\n",
        "print(c1.add(10))\n",
        "print(c1.add(10,20))\n"
      ],
      "metadata": {
        "colab": {
          "base_uri": "https://localhost:8080/"
        },
        "id": "3RTzLmeoNCxO",
        "outputId": "f8f54c7a-244c-4ece-998d-8050ad35497f"
      },
      "execution_count": 3,
      "outputs": [
        {
          "output_type": "stream",
          "name": "stdout",
          "text": [
            "10\n",
            "30\n"
          ]
        }
      ]
    },
    {
      "cell_type": "markdown",
      "source": [
        "Method overloading with variable length argument"
      ],
      "metadata": {
        "id": "HXOtsDkFOM2-"
      }
    },
    {
      "cell_type": "code",
      "source": [
        "class Calculator:\n",
        "  def add(self,*args):\n",
        "    total = 0\n",
        "    for num in args:\n",
        "      total += num\n",
        "    return total\n",
        "\n",
        "c1 = Calculator()\n",
        "print(c1.add(10))\n",
        "print(c1.add(10,20))\n",
        "print(c1.add(10,20,30))\n"
      ],
      "metadata": {
        "colab": {
          "base_uri": "https://localhost:8080/"
        },
        "id": "AGIMym76ONti",
        "outputId": "ee5af96e-5a65-4fef-8a74-cda63dd1b6eb"
      },
      "execution_count": 4,
      "outputs": [
        {
          "output_type": "stream",
          "name": "stdout",
          "text": [
            "10\n",
            "30\n",
            "60\n"
          ]
        }
      ]
    },
    {
      "cell_type": "markdown",
      "source": [
        "Method Overriding"
      ],
      "metadata": {
        "id": "8yYugAZiOofF"
      }
    },
    {
      "cell_type": "code",
      "source": [
        "class Vehicle:\n",
        "  def __init__(self,brand,model):\n",
        "    self.brand = brand\n",
        "    self.model = model\n",
        "\n",
        "  def move(self):\n",
        "    print(\"Move\")\n",
        "\n",
        "class Car(Vehicle):\n",
        "  pass\n",
        "\n",
        "class Plane(Vehicle):\n",
        "  def move(self):\n",
        "    print(\"Fly\")\n",
        "\n",
        "car1 = Car(\"Toyota\",\"Camry\")\n",
        "\n",
        "plane1 = Plane(\"Boeing\",\"747\")\n",
        "\n",
        "for el in (car1,plane1):\n",
        "  print(el.brand,el.model)\n",
        "  el.move()"
      ],
      "metadata": {
        "colab": {
          "base_uri": "https://localhost:8080/"
        },
        "id": "08EWJF2zOrv5",
        "outputId": "0571a64c-4a26-4539-9164-f7e492bb55ae"
      },
      "execution_count": 5,
      "outputs": [
        {
          "output_type": "stream",
          "name": "stdout",
          "text": [
            "Toyota Camry\n",
            "Move\n",
            "Boeing 747\n",
            "Fly\n"
          ]
        }
      ]
    },
    {
      "cell_type": "code",
      "source": [
        "class Animal:\n",
        "  def speak(self):\n",
        "    print(\"Generic animal sounds\")\n",
        "\n",
        "class Dog(Animal):\n",
        "  def speak(self):\n",
        "    print(\"Dog barks\")\n",
        "\n",
        "class Cat(Animal):\n",
        "  def speak(self):\n",
        "    print(\"Cat meows\")\n",
        "\n",
        "a = Animal()\n",
        "d = Dog()\n",
        "c = Cat()\n",
        "\n",
        "a.speak()\n",
        "d.speak()\n",
        "c.speak()"
      ],
      "metadata": {
        "colab": {
          "base_uri": "https://localhost:8080/"
        },
        "id": "YJv58w5lQJxX",
        "outputId": "1ae7022d-2b8d-494c-c41d-d1af1393bdaa"
      },
      "execution_count": 6,
      "outputs": [
        {
          "output_type": "stream",
          "name": "stdout",
          "text": [
            "Generic animal sounds\n",
            "Dog barks\n",
            "Cat meows\n"
          ]
        }
      ]
    }
  ]
}