{
  "nbformat": 4,
  "nbformat_minor": 0,
  "metadata": {
    "colab": {
      "provenance": [],
      "authorship_tag": "ABX9TyMNBeb7agza+E2Gkh8q+mmk",
      "include_colab_link": true
    },
    "kernelspec": {
      "name": "python3",
      "display_name": "Python 3"
    },
    "language_info": {
      "name": "python"
    }
  },
  "cells": [
    {
      "cell_type": "markdown",
      "metadata": {
        "id": "view-in-github",
        "colab_type": "text"
      },
      "source": [
        "<a href=\"https://colab.research.google.com/github/ibraheem-02/Python_Programs/blob/main/Swapping.ipynb\" target=\"_parent\"><img src=\"https://colab.research.google.com/assets/colab-badge.svg\" alt=\"Open In Colab\"/></a>"
      ]
    },
    {
      "cell_type": "markdown",
      "source": [
        "Swapping two Number using third variable"
      ],
      "metadata": {
        "id": "gqo9liYf9VSd"
      }
    },
    {
      "cell_type": "code",
      "execution_count": 1,
      "metadata": {
        "colab": {
          "base_uri": "https://localhost:8080/"
        },
        "id": "Z1NZADSQ8pAu",
        "outputId": "9111810b-12bf-4f15-cbde-0e8a02c82125"
      },
      "outputs": [
        {
          "output_type": "stream",
          "name": "stdout",
          "text": [
            "Enter first No:5\n",
            "Enter Second No:6\n",
            "Values befor Swapping:\n",
            "N1 =  5 , N2 =  6\n",
            "Values after Swapping:\n",
            "N1 =  6 , N2 =  5\n"
          ]
        }
      ],
      "source": [
        "N1 =  int (input(\"Enter first No:\"))\n",
        "N2 =  int (input(\"Enter Second No:\"))\n",
        "print(\"Values befor Swapping:\")\n",
        "print(\"N1 = \",N1 , \", N2 = \",N2)\n",
        "tem = N1\n",
        "N1 = N2\n",
        "N2 = tem\n",
        "print(\"Values after Swapping:\")\n",
        "print(\"N1 = \",N1 , \", N2 = \",N2)"
      ]
    },
    {
      "cell_type": "markdown",
      "source": [
        "Swapping two Numbers without using third variable"
      ],
      "metadata": {
        "id": "1iD_ERxP-Ghp"
      }
    },
    {
      "cell_type": "code",
      "source": [
        "N1 =  int (input(\"Enter first No:\"))\n",
        "N2 =  int (input(\"Enter Second No:\"))\n",
        "print(\"Values befor Swapping:\")\n",
        "print(\"N1 = \",N1 , \", N2 = \",N2)\n",
        "N1 = N1 + N2\n",
        "N2 = N1 - N2\n",
        "N1 = N1 - N2\n",
        "print(\"Values after Swapping:\")\n",
        "print(\"N1 = \",N1 , \", N2 = \",N2)"
      ],
      "metadata": {
        "colab": {
          "base_uri": "https://localhost:8080/"
        },
        "id": "1XvdDeFt-GFC",
        "outputId": "5f011a4f-c1c6-4f84-8433-725352488e10"
      },
      "execution_count": 2,
      "outputs": [
        {
          "output_type": "stream",
          "name": "stdout",
          "text": [
            "Enter first No:5\n",
            "Enter Second No:6\n",
            "Values befor Swapping:\n",
            "N1 =  5 , N2 =  6\n",
            "Values after Swapping:\n",
            "N1 =  6 , N2 =  5\n"
          ]
        }
      ]
    },
    {
      "cell_type": "markdown",
      "source": [
        "Swapping two Numbers using XOR"
      ],
      "metadata": {
        "id": "_YoPzDel-ouY"
      }
    },
    {
      "cell_type": "code",
      "source": [
        "N1 =  int (input(\"Enter first No:\"))\n",
        "N2 =  int (input(\"Enter Second No:\"))\n",
        "print(\"Values befor Swapping:\")\n",
        "print(\"N1 = \",N1 , \", N2 = \",N2)\n",
        "N1 = N1 ^ N2\n",
        "N2 = N1 ^ N2\n",
        "N1 = N1 ^ N2\n",
        "print(\"Values after Swapping:\")\n",
        "print(\"N1 = \",N1 , \", N2 = \",N2)"
      ],
      "metadata": {
        "colab": {
          "base_uri": "https://localhost:8080/"
        },
        "id": "8_1gxtll-vaf",
        "outputId": "e8f6d1db-acde-4d7a-a045-dfcb392ba87b"
      },
      "execution_count": 3,
      "outputs": [
        {
          "output_type": "stream",
          "name": "stdout",
          "text": [
            "Enter first No:4\n",
            "Enter Second No:6\n",
            "Values befor Swapping:\n",
            "N1 =  4 , N2 =  6\n",
            "Values after Swapping:\n",
            "N1 =  6 , N2 =  4\n"
          ]
        }
      ]
    }
  ]
}