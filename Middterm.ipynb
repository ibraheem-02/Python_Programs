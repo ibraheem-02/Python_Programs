{
  "nbformat": 4,
  "nbformat_minor": 0,
  "metadata": {
    "colab": {
      "provenance": [],
      "authorship_tag": "ABX9TyO0RdpOJuu/19ZlYeLnQ4hb",
      "include_colab_link": true
    },
    "kernelspec": {
      "name": "python3",
      "display_name": "Python 3"
    },
    "language_info": {
      "name": "python"
    }
  },
  "cells": [
    {
      "cell_type": "markdown",
      "metadata": {
        "id": "view-in-github",
        "colab_type": "text"
      },
      "source": [
        "<a href=\"https://colab.research.google.com/github/ibraheem-02/Python_Programs/blob/main/Middterm.ipynb\" target=\"_parent\"><img src=\"https://colab.research.google.com/assets/colab-badge.svg\" alt=\"Open In Colab\"/></a>"
      ]
    },
    {
      "cell_type": "markdown",
      "source": [
        "# output of the given programs"
      ],
      "metadata": {
        "id": "VtDtKh1PQdUx"
      }
    },
    {
      "cell_type": "code",
      "execution_count": 1,
      "metadata": {
        "colab": {
          "base_uri": "https://localhost:8080/"
        },
        "id": "SGRIzvuZMQii",
        "outputId": "2e0e2a1d-426c-4a4c-ec34-ccaf241be3d3"
      },
      "outputs": [
        {
          "output_type": "stream",
          "name": "stdout",
          "text": [
            "71"
          ]
        }
      ],
      "source": [
        "no = 17\n",
        "while no > 0:\n",
        "  digit = no % 10\n",
        "  print(digit,end ='')\n",
        "  no = no //10"
      ]
    },
    {
      "cell_type": "code",
      "source": [
        "for i in range(1,10,2):\n",
        "  print(i*i)"
      ],
      "metadata": {
        "colab": {
          "base_uri": "https://localhost:8080/"
        },
        "id": "_NaCThDNOP9W",
        "outputId": "ab43f8f6-09a8-434a-86ed-df02d13264f0"
      },
      "execution_count": 2,
      "outputs": [
        {
          "output_type": "stream",
          "name": "stdout",
          "text": [
            "1\n",
            "9\n",
            "25\n",
            "49\n",
            "81\n"
          ]
        }
      ]
    },
    {
      "cell_type": "code",
      "source": [
        "def line(n, ch):\n",
        "    for i in range(n):\n",
        "        print(ch, end='')\n",
        "    print('')  # To move to the next line after printing the characters\n",
        "\n",
        "# Function calls\n",
        "print(\"Hello!\")\n",
        "line(6, \"*\")\n",
        "line(5, \"=\")\n",
        "\n",
        "\n"
      ],
      "metadata": {
        "colab": {
          "base_uri": "https://localhost:8080/"
        },
        "id": "iNfOiMWyOfQH",
        "outputId": "e8a32e8e-6660-4ab3-fbc8-c5f9999b0b1f"
      },
      "execution_count": 3,
      "outputs": [
        {
          "output_type": "stream",
          "name": "stdout",
          "text": [
            "Hello!\n",
            "******\n",
            "=====\n"
          ]
        }
      ]
    }
  ]
}