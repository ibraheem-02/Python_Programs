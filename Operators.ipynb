{
  "nbformat": 4,
  "nbformat_minor": 0,
  "metadata": {
    "colab": {
      "provenance": [],
      "authorship_tag": "ABX9TyPo4Zv0TOtZn+Kz/W6jYkPC",
      "include_colab_link": true
    },
    "kernelspec": {
      "name": "python3",
      "display_name": "Python 3"
    },
    "language_info": {
      "name": "python"
    }
  },
  "cells": [
    {
      "cell_type": "markdown",
      "metadata": {
        "id": "view-in-github",
        "colab_type": "text"
      },
      "source": [
        "<a href=\"https://colab.research.google.com/github/ibraheem-02/Python_Programs/blob/main/Operators.ipynb\" target=\"_parent\"><img src=\"https://colab.research.google.com/assets/colab-badge.svg\" alt=\"Open In Colab\"/></a>"
      ]
    },
    {
      "cell_type": "markdown",
      "source": [
        "Operator in python\n",
        "Arthmetic operator"
      ],
      "metadata": {
        "id": "4GF81OIl8opV"
      }
    },
    {
      "cell_type": "code",
      "execution_count": 12,
      "metadata": {
        "colab": {
          "base_uri": "https://localhost:8080/"
        },
        "id": "3mgPZ6WF8fpw",
        "outputId": "adcc649c-d536-403c-d6b2-55ee596a954e"
      },
      "outputs": [
        {
          "output_type": "stream",
          "name": "stdout",
          "text": [
            "Enter First Number   2\n",
            "Enter Second Number  3\n",
            "\n",
            "Second number become the power of first number in square function\n",
            "\n",
            "Square of Two Number is            :       8\n",
            "Addition of Two Number is          :       5\n",
            "Subtraction of Two Number is       :       -1\n",
            "Float division of Two Number is    :       0.6666666666666666\n",
            "Multiplication of Two Number is    :       6\n",
            "Integer Division of Two Number is  :       0\n",
            "Modulus of Two Number is           :       2\n"
          ]
        }
      ],
      "source": [
        "num1 = int(input(\"Enter First Number   \"))\n",
        "num2 = int(input(\"Enter Second Number  \"))\n",
        "print() #for one line space\n",
        "print (\"Second number become the power of first number in square function\")\n",
        "print() #for one line space\n",
        "print(\"Square of Two Number is            :      \", num1 ** num2) #power/square\n",
        "print(\"Addition of Two Number is          :      \", num1 + num2)  #Addition\n",
        "print(\"Subtraction of Two Number is       :      \", num1 - num2)  #subtraction\n",
        "print(\"Float division of Two Number is    :      \", num1 / num2)  #Float divisionn\n",
        "print(\"Multiplication of Two Number is    :      \", num1 * num2)  #Multiplication\n",
        "print(\"Integer Division of Two Number is  :      \", num1 // num2) #Integer Division\n",
        "print(\"Modulus of Two Number is           :      \", num1 % num2)  #Modulus"
      ]
    },
    {
      "cell_type": "markdown",
      "source": [
        "Relational operators(Return a boolean answer)"
      ],
      "metadata": {
        "id": "Kdh0kIj-D0a0"
      }
    },
    {
      "cell_type": "code",
      "source": [
        "num1 = int(input(\"Enter First Number   \"))\n",
        "num2 = int(input(\"Enter Second Number  \"))\n",
        "print() #for one line space\n",
        "\n",
        "print(\"First Number is == Second number  :    \", num1 == num2) #Equal to operator\n",
        "print(\"First Number is != Second number  :    \", num1 != num2) #Not equal to operator\n",
        "print(\"First Number is >  Second number  :    \", num1 > num2)  #Greator then operator\n",
        "print(\"First Number is >= Second number  :    \", num1 >= num2) #Greater then equal to operator\n",
        "print(\"First Number is <  Second number  :    \", num1 < num2)  #less then operator\n",
        "print(\"First Number is <= Second number  :    \", num1 <= num2) #less the equal to operator\n",
        ""
      ],
      "metadata": {
        "colab": {
          "base_uri": "https://localhost:8080/"
        },
        "id": "_sv6VtZFEKX5",
        "outputId": "f236ea0b-abff-45d6-d612-8152770cf573"
      },
      "execution_count": 13,
      "outputs": [
        {
          "output_type": "stream",
          "name": "stdout",
          "text": [
            "Enter First Number   3\n",
            "Enter Second Number  5\n",
            "\n",
            "First Number is == Second number  :     False\n",
            "First Number is != Second number  :     True\n",
            "First Number is >  Second number  :     False\n",
            "First Number is >= Second number  :     False\n",
            "First Number is <  Second number  :     True\n",
            "First Number is <= Second number  :     True\n"
          ]
        }
      ]
    },
    {
      "cell_type": "markdown",
      "source": [
        "Logical operator (Boolean answer)"
      ],
      "metadata": {
        "id": "KP0iDGpWJvKN"
      }
    },
    {
      "cell_type": "code",
      "source": [
        "num1 = int(input(\"Enter First Number:   \"))\n",
        "num2 = int(input(\"Enter Second Number:  \"))\n",
        "print()  # Line space\n",
        "\n",
        "# Logical Operator Examples (AND/OR/NOT)\n",
        "print(\"Logical Operator Combinations:\")\n",
        "print(\"Both numbers are positive?         :    \", (num1 > 0) and (num2 > 0))\n",
        "print(\"At least one number is even?       :    \", (num1 % 2 == 0) or (num2 % 2 == 0))\n",
        "print(\"First is NOT equal to second?      :    \", not (num1 == num2))\n",
        "print(\"First > 10 AND Second < 50?        :    \", (num1 > 10) and (num2 < 50))\n",
        "print(\"Either number is zero?             :    \", (num1 == 0) or (num2 == 0))"
      ],
      "metadata": {
        "colab": {
          "base_uri": "https://localhost:8080/"
        },
        "id": "0yPP8ezxJ37F",
        "outputId": "3e92bc6d-2968-4f5d-ef79-1f93bf1475a8"
      },
      "execution_count": 14,
      "outputs": [
        {
          "output_type": "stream",
          "name": "stdout",
          "text": [
            "Enter First Number:   20\n",
            "Enter Second Number:  32\n",
            "\n",
            "Logical Operator Combinations:\n",
            "Both numbers are positive?         :     True\n",
            "At least one number is even?       :     True\n",
            "First is NOT equal to second?      :     True\n",
            "First > 10 AND Second < 50?        :     True\n",
            "Either number is zero?             :     False\n"
          ]
        }
      ]
    },
    {
      "cell_type": "markdown",
      "source": [
        "Arthmetic Assignment Operator"
      ],
      "metadata": {
        "id": "EosWZHrJMoq0"
      }
    },
    {
      "cell_type": "code",
      "source": [],
      "metadata": {
        "id": "Bb1i94QoMytg"
      },
      "execution_count": null,
      "outputs": []
    }
  ]
}